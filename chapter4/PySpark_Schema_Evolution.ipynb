{
  "cells": [
    {
      "cell_type": "markdown",
      "metadata": {
        "id": "XIA23YgbXKJd"
      },
      "source": [
        "이를 위해 pyspark과 Py4J 패키지를 설치한다. Py4J 패키지는 파이썬 프로그램이 자바가상머신상의 오브젝트들을 접근할 수 있게 해준다. Local Standalone Spark을 사용한다."
      ]
    },
    {
      "cell_type": "code",
      "execution_count": 1,
      "metadata": {
        "colab": {
          "base_uri": "https://localhost:8080/"
        },
        "id": "NbT0rpGfVdiq",
        "outputId": "b2958c29-d38a-4fd3-c9ef-99f61cbf93bd"
      },
      "outputs": [
        {
          "name": "stdout",
          "output_type": "stream",
          "text": [
            "Looking in indexes: https://pypi.org/simple, https://us-python.pkg.dev/colab-wheels/public/simple/\n",
            "Collecting pyspark==3.3.1\n",
            "  Downloading pyspark-3.3.1.tar.gz (281.4 MB)\n",
            "\u001b[2K     \u001b[90m━━━━━━━━━━━━━━━━━━━━━━━━━━━━━━━━━━━━━━━\u001b[0m \u001b[32m281.4/281.4 MB\u001b[0m \u001b[31m4.4 MB/s\u001b[0m eta \u001b[36m0:00:00\u001b[0m\n",
            "\u001b[?25h  Preparing metadata (setup.py) ... \u001b[?25l\u001b[?25hdone\n",
            "Collecting py4j==0.10.9.5\n",
            "  Downloading py4j-0.10.9.5-py2.py3-none-any.whl (199 kB)\n",
            "\u001b[2K     \u001b[90m━━━━━━━━━━━━━━━━━━━━━━━━━━━━━━━━━━━━━━\u001b[0m \u001b[32m199.7/199.7 KB\u001b[0m \u001b[31m12.2 MB/s\u001b[0m eta \u001b[36m0:00:00\u001b[0m\n",
            "\u001b[?25hBuilding wheels for collected packages: pyspark\n",
            "  Building wheel for pyspark (setup.py) ... \u001b[?25l\u001b[?25hdone\n",
            "  Created wheel for pyspark: filename=pyspark-3.3.1-py2.py3-none-any.whl size=281845512 sha256=a051dc3356489e2db2daffc911fcf3ba48c0630c00bea8ea3f7487a62f6cf816\n",
            "  Stored in directory: /root/.cache/pip/wheels/43/dc/11/ec201cd671da62fa9c5cc77078235e40722170ceba231d7598\n",
            "Successfully built pyspark\n",
            "Installing collected packages: py4j, pyspark\n",
            "Successfully installed py4j-0.10.9.5 pyspark-3.3.1\n"
          ]
        }
      ],
      "source": [
        "!pip install pyspark==3.3.1 py4j==0.10.9.5 "
      ]
    },
    {
      "cell_type": "markdown",
      "metadata": {
        "id": "Ew_eTGrvXlDw"
      },
      "source": [
        "**Spark Session**을 하나 만든다"
      ]
    },
    {
      "cell_type": "code",
      "execution_count": 85,
      "metadata": {
        "id": "3vm6tgcPXdnR"
      },
      "outputs": [],
      "source": [
        "from pyspark.sql import *\n",
        "from pyspark.sql.functions import *\n",
        "\n",
        "if __name__ == \"__main__\":\n",
        "    spark = SparkSession \\\n",
        "        .builder \\\n",
        "        .appName(\"Spark Schema Evolution Demo\") \\\n",
        "        .master(\"local[3]\") \\\n",
        "        .config(\"spark.jars.packages\", \"org.apache.spark:spark-avro_2.12:3.4.1\") \\\n",
        "        .getOrCreate()"
      ]
    },
    {
      "cell_type": "code",
      "execution_count": 86,
      "metadata": {
        "colab": {
          "base_uri": "https://localhost:8080/"
        },
        "id": "UKrMnuGVK77P",
        "outputId": "4f09cac2-bda4-421e-aed5-d183827668a5"
      },
      "outputs": [
        {
          "name": "stderr",
          "output_type": "stream",
          "text": [
            "'wget'��(��) ���� �Ǵ� �ܺ� ����, ������ �� �ִ� ���α׷�, �Ǵ�\n",
            "��ġ ������ �ƴմϴ�.\n",
            "'wget'��(��) ���� �Ǵ� �ܺ� ����, ������ �� �ִ� ���α׷�, �Ǵ�\n",
            "��ġ ������ �ƴմϴ�.\n",
            "'wget'��(��) ���� �Ǵ� �ܺ� ����, ������ �� �ִ� ���α׷�, �Ǵ�\n",
            "��ġ ������ �ƴմϴ�.\n"
          ]
        }
      ],
      "source": [
        "!wget https://s3-geospatial.s3.us-west-2.amazonaws.com/schema1.parquet\n",
        "!wget https://s3-geospatial.s3.us-west-2.amazonaws.com/schema2.parquet\n",
        "!wget https://s3-geospatial.s3.us-west-2.amazonaws.com/schema3.parquet"
      ]
    },
    {
      "cell_type": "code",
      "execution_count": 87,
      "metadata": {},
      "outputs": [],
      "source": [
        "df = spark. read \\\n",
        "    .format('csv') \\\n",
        "    .load('./data/appl_stock.csv')"
      ]
    },
    {
      "cell_type": "code",
      "execution_count": 88,
      "metadata": {},
      "outputs": [
        {
          "name": "stdout",
          "output_type": "stream",
          "text": [
            "Num Partition before : 1\n",
            "+--------------------+-----+\n",
            "|SPARK_PARTITION_ID()|count|\n",
            "+--------------------+-----+\n",
            "|                   0| 1763|\n",
            "+--------------------+-----+\n",
            "\n"
          ]
        }
      ],
      "source": [
        "# partitioin의 숫자 리턴\n",
        "# PARTITION ID별 COUNT\n",
        "print(\"Num Partition before : \" + str(df.rdd.getNumPartitions()))\n",
        "df.groupBy(spark_partition_id()).count().show()"
      ]
    },
    {
      "cell_type": "code",
      "execution_count": 89,
      "metadata": {},
      "outputs": [
        {
          "name": "stdout",
          "output_type": "stream",
          "text": [
            "Num Partitions after: 4\n"
          ]
        },
        {
          "name": "stdout",
          "output_type": "stream",
          "text": [
            "+--------------------+-----+\n",
            "|SPARK_PARTITION_ID()|count|\n",
            "+--------------------+-----+\n",
            "|                   0|  440|\n",
            "|                   1|  441|\n",
            "|                   2|  441|\n",
            "|                   3|  441|\n",
            "+--------------------+-----+\n",
            "\n"
          ]
        }
      ],
      "source": [
        "# 해싱을 통한 repartition\n",
        "df2 = df.repartition(4)\n",
        "print(\"Num Partitions after: \" + str(df2.rdd.getNumPartitions()))\n",
        "df2.groupBy(spark_partition_id()).count().show()"
      ]
    },
    {
      "cell_type": "code",
      "execution_count": 90,
      "metadata": {},
      "outputs": [
        {
          "name": "stdout",
          "output_type": "stream",
          "text": [
            "Num Partitions after: 2\n"
          ]
        },
        {
          "name": "stdout",
          "output_type": "stream",
          "text": [
            "+--------------------+-----+\n",
            "|SPARK_PARTITION_ID()|count|\n",
            "+--------------------+-----+\n",
            "|                   0|  881|\n",
            "|                   1|  882|\n",
            "+--------------------+-----+\n",
            "\n"
          ]
        }
      ],
      "source": [
        "# coalesce라는 함수는 파티션의 수를 줄이는 함수\n",
        "# 셔플링을 최소화하는 방향으로 줄인다.\n",
        "df3 = df2.coalesce(2)\n",
        "print(\"Num Partitions after: \" + str(df3.rdd.getNumPartitions()))\n",
        "df3.groupBy(spark_partition_id()).count().show()"
      ]
    },
    {
      "cell_type": "code",
      "execution_count": 91,
      "metadata": {},
      "outputs": [
        {
          "ename": "AnalysisException",
          "evalue": "Failed to find data source: avro. Avro is built-in but external data source module since Spark 2.4. Please deploy the application as per the deployment section of Apache Avro Data Source Guide.",
          "output_type": "error",
          "traceback": [
            "\u001b[1;31m---------------------------------------------------------------------------\u001b[0m",
            "\u001b[1;31mAnalysisException\u001b[0m                         Traceback (most recent call last)",
            "\u001b[1;32mc:\\beginner-spark-programming-with-pyspark\\chapter4\\PySpark_Schema_Evolution.ipynb 셀 10\u001b[0m in \u001b[0;36m<cell line: 2>\u001b[1;34m()\u001b[0m\n\u001b[0;32m      <a href='vscode-notebook-cell:/c%3A/beginner-spark-programming-with-pyspark/chapter4/PySpark_Schema_Evolution.ipynb#X20sZmlsZQ%3D%3D?line=0'>1</a>\u001b[0m \u001b[39m# avro는 파일이 하나만 저장 \u001b[39;00m\n\u001b[1;32m----> <a href='vscode-notebook-cell:/c%3A/beginner-spark-programming-with-pyspark/chapter4/PySpark_Schema_Evolution.ipynb#X20sZmlsZQ%3D%3D?line=1'>2</a>\u001b[0m df\u001b[39m.\u001b[39;49mwrite \\\n\u001b[0;32m      <a href='vscode-notebook-cell:/c%3A/beginner-spark-programming-with-pyspark/chapter4/PySpark_Schema_Evolution.ipynb#X20sZmlsZQ%3D%3D?line=2'>3</a>\u001b[0m     \u001b[39m.\u001b[39;49mformat(\u001b[39m\"\u001b[39;49m\u001b[39mavro\u001b[39;49m\u001b[39m\"\u001b[39;49m) \\\n\u001b[0;32m      <a href='vscode-notebook-cell:/c%3A/beginner-spark-programming-with-pyspark/chapter4/PySpark_Schema_Evolution.ipynb#X20sZmlsZQ%3D%3D?line=3'>4</a>\u001b[0m     \u001b[39m.\u001b[39;49mmode(\u001b[39m\"\u001b[39;49m\u001b[39moverwrite\u001b[39;49m\u001b[39m\"\u001b[39;49m) \\\n\u001b[0;32m      <a href='vscode-notebook-cell:/c%3A/beginner-spark-programming-with-pyspark/chapter4/PySpark_Schema_Evolution.ipynb#X20sZmlsZQ%3D%3D?line=4'>5</a>\u001b[0m     \u001b[39m.\u001b[39;49moption(\u001b[39m\"\u001b[39;49m\u001b[39mpath\u001b[39;49m\u001b[39m\"\u001b[39;49m, \u001b[39m\"\u001b[39;49m\u001b[39mdataOutput/avro/\u001b[39;49m\u001b[39m\"\u001b[39;49m) \\\n\u001b[0;32m      <a href='vscode-notebook-cell:/c%3A/beginner-spark-programming-with-pyspark/chapter4/PySpark_Schema_Evolution.ipynb#X20sZmlsZQ%3D%3D?line=5'>6</a>\u001b[0m     \u001b[39m.\u001b[39;49msave()\n",
            "File \u001b[1;32mc:\\Users\\wjddm\\anaconda3\\envs\\spotify\\lib\\site-packages\\pyspark\\sql\\readwriter.py:966\u001b[0m, in \u001b[0;36mDataFrameWriter.save\u001b[1;34m(self, path, format, mode, partitionBy, **options)\u001b[0m\n\u001b[0;32m    964\u001b[0m     \u001b[39mself\u001b[39m\u001b[39m.\u001b[39mformat(\u001b[39mformat\u001b[39m)\n\u001b[0;32m    965\u001b[0m \u001b[39mif\u001b[39;00m path \u001b[39mis\u001b[39;00m \u001b[39mNone\u001b[39;00m:\n\u001b[1;32m--> 966\u001b[0m     \u001b[39mself\u001b[39;49m\u001b[39m.\u001b[39;49m_jwrite\u001b[39m.\u001b[39;49msave()\n\u001b[0;32m    967\u001b[0m \u001b[39melse\u001b[39;00m:\n\u001b[0;32m    968\u001b[0m     \u001b[39mself\u001b[39m\u001b[39m.\u001b[39m_jwrite\u001b[39m.\u001b[39msave(path)\n",
            "File \u001b[1;32mc:\\Users\\wjddm\\anaconda3\\envs\\spotify\\lib\\site-packages\\py4j\\java_gateway.py:1321\u001b[0m, in \u001b[0;36mJavaMember.__call__\u001b[1;34m(self, *args)\u001b[0m\n\u001b[0;32m   1315\u001b[0m command \u001b[39m=\u001b[39m proto\u001b[39m.\u001b[39mCALL_COMMAND_NAME \u001b[39m+\u001b[39m\\\n\u001b[0;32m   1316\u001b[0m     \u001b[39mself\u001b[39m\u001b[39m.\u001b[39mcommand_header \u001b[39m+\u001b[39m\\\n\u001b[0;32m   1317\u001b[0m     args_command \u001b[39m+\u001b[39m\\\n\u001b[0;32m   1318\u001b[0m     proto\u001b[39m.\u001b[39mEND_COMMAND_PART\n\u001b[0;32m   1320\u001b[0m answer \u001b[39m=\u001b[39m \u001b[39mself\u001b[39m\u001b[39m.\u001b[39mgateway_client\u001b[39m.\u001b[39msend_command(command)\n\u001b[1;32m-> 1321\u001b[0m return_value \u001b[39m=\u001b[39m get_return_value(\n\u001b[0;32m   1322\u001b[0m     answer, \u001b[39mself\u001b[39;49m\u001b[39m.\u001b[39;49mgateway_client, \u001b[39mself\u001b[39;49m\u001b[39m.\u001b[39;49mtarget_id, \u001b[39mself\u001b[39;49m\u001b[39m.\u001b[39;49mname)\n\u001b[0;32m   1324\u001b[0m \u001b[39mfor\u001b[39;00m temp_arg \u001b[39min\u001b[39;00m temp_args:\n\u001b[0;32m   1325\u001b[0m     temp_arg\u001b[39m.\u001b[39m_detach()\n",
            "File \u001b[1;32mc:\\Users\\wjddm\\anaconda3\\envs\\spotify\\lib\\site-packages\\pyspark\\sql\\utils.py:196\u001b[0m, in \u001b[0;36mcapture_sql_exception.<locals>.deco\u001b[1;34m(*a, **kw)\u001b[0m\n\u001b[0;32m    192\u001b[0m converted \u001b[39m=\u001b[39m convert_exception(e\u001b[39m.\u001b[39mjava_exception)\n\u001b[0;32m    193\u001b[0m \u001b[39mif\u001b[39;00m \u001b[39mnot\u001b[39;00m \u001b[39misinstance\u001b[39m(converted, UnknownException):\n\u001b[0;32m    194\u001b[0m     \u001b[39m# Hide where the exception came from that shows a non-Pythonic\u001b[39;00m\n\u001b[0;32m    195\u001b[0m     \u001b[39m# JVM exception message.\u001b[39;00m\n\u001b[1;32m--> 196\u001b[0m     \u001b[39mraise\u001b[39;00m converted \u001b[39mfrom\u001b[39;00m \u001b[39mNone\u001b[39;00m\n\u001b[0;32m    197\u001b[0m \u001b[39melse\u001b[39;00m:\n\u001b[0;32m    198\u001b[0m     \u001b[39mraise\u001b[39;00m\n",
            "\u001b[1;31mAnalysisException\u001b[0m: Failed to find data source: avro. Avro is built-in but external data source module since Spark 2.4. Please deploy the application as per the deployment section of Apache Avro Data Source Guide."
          ]
        }
      ],
      "source": [
        "# avro는 파일이 하나만 저장 \n",
        "df.write \\\n",
        "    .format(\"avro\") \\\n",
        "    .mode(\"overwrite\") \\\n",
        "    .option(\"path\", \"dataOutput/avro/\") \\\n",
        "    .save()"
      ]
    },
    {
      "cell_type": "code",
      "execution_count": 68,
      "metadata": {},
      "outputs": [],
      "source": [
        "# parquet은 파티션이 4개였고, 파일 4개\n",
        "df2.write \\\n",
        "    .format('parquet') \\\n",
        "    .mode('overwrite') \\\n",
        "    .option('path', 'dataOutput/parquet/') \\\n",
        "    .save()"
      ]
    },
    {
      "cell_type": "code",
      "execution_count": 69,
      "metadata": {},
      "outputs": [],
      "source": [
        "# json은 두개\n",
        "df3.write \\\n",
        "    .format('json') \\\n",
        "    .mode('overwrite') \\\n",
        "    .option('path', 'dataOutput/json/') \\\n",
        "    .save()"
      ]
    },
    {
      "cell_type": "markdown",
      "metadata": {},
      "source": [
        "# schema evolution"
      ]
    },
    {
      "cell_type": "code",
      "execution_count": 71,
      "metadata": {
        "colab": {
          "base_uri": "https://localhost:8080/"
        },
        "id": "aej8p-pXDLUR",
        "outputId": "cf62aafe-00d4-4105-ad25-fded0d86a72b"
      },
      "outputs": [
        {
          "name": "stdout",
          "output_type": "stream",
          "text": [
            "root\n",
            " |-- Date: timestamp (nullable = true)\n",
            " |-- Open: double (nullable = true)\n",
            " |-- High: double (nullable = true)\n",
            " |-- Low: double (nullable = true)\n",
            " |-- Close: double (nullable = true)\n",
            "\n",
            "+-------------------+------------------+------------------+------------------+------------------+\n",
            "|               Date|              Open|              High|               Low|             Close|\n",
            "+-------------------+------------------+------------------+------------------+------------------+\n",
            "|2010-01-04 17:00:00|        213.429998|        214.499996|212.38000099999996|        214.009998|\n",
            "|2010-01-05 17:00:00|        214.599998|        215.589994|        213.249994|        214.379993|\n",
            "|2010-01-06 17:00:00|        214.379993|            215.23|        210.750004|        210.969995|\n",
            "|2010-01-07 17:00:00|            211.75|        212.000006|        209.050005|            210.58|\n",
            "|2010-01-08 17:00:00|        210.299994|        212.000006|209.06000500000002|211.98000499999998|\n",
            "|2010-01-11 17:00:00|212.79999700000002|        213.000002|        208.450005|210.11000299999998|\n",
            "|2010-01-12 17:00:00|209.18999499999998|209.76999500000002|        206.419998|        207.720001|\n",
            "|2010-01-13 17:00:00|        207.870005|210.92999500000002|        204.099998|        210.650002|\n",
            "|2010-01-14 17:00:00|210.11000299999998|210.45999700000002|        209.020004|            209.43|\n",
            "|2010-01-15 17:00:00|210.92999500000002|211.59999700000003|        205.869999|            205.93|\n",
            "|2010-01-19 17:00:00|        208.330002|215.18999900000003|        207.240004|        215.039995|\n",
            "|2010-01-20 17:00:00|        214.910006|        215.549994|        209.500002|            211.73|\n",
            "|2010-01-21 17:00:00|        212.079994|213.30999599999998|        207.210003|        208.069996|\n",
            "|2010-01-22 17:00:00|206.78000600000001|        207.499996|            197.16|            197.75|\n",
            "|2010-01-25 17:00:00|202.51000200000001|        204.699999|        200.190002|        203.070002|\n",
            "|2010-01-26 17:00:00|205.95000100000001|        213.710005|        202.580004|        205.940001|\n",
            "|2010-01-27 17:00:00|        206.849995|            210.58|        199.530001|        207.880005|\n",
            "|2010-01-28 17:00:00|        204.930004|        205.500004|        198.699995|        199.289995|\n",
            "|2010-01-29 17:00:00|        201.079996|        202.199995|        190.250002|        192.060003|\n",
            "|2010-02-01 17:00:00|192.36999699999998|             196.0|191.29999899999999|        194.729998|\n",
            "+-------------------+------------------+------------------+------------------+------------------+\n",
            "only showing top 20 rows\n",
            "\n"
          ]
        }
      ],
      "source": [
        "df1 = spark.read. \\\n",
        "    parquet(\"./data/schema1.parquet\")\n",
        "    \n",
        "df1.printSchema()\n",
        "df1.show()"
      ]
    },
    {
      "cell_type": "code",
      "execution_count": 72,
      "metadata": {
        "colab": {
          "base_uri": "https://localhost:8080/"
        },
        "id": "IF7swt92cxjB",
        "outputId": "8ac75b54-433b-4fe9-f226-d281e9b59866"
      },
      "outputs": [
        {
          "name": "stdout",
          "output_type": "stream",
          "text": [
            "root\n",
            " |-- Date: timestamp (nullable = true)\n",
            " |-- Open: double (nullable = true)\n",
            " |-- High: double (nullable = true)\n",
            " |-- Low: double (nullable = true)\n",
            " |-- Close: double (nullable = true)\n",
            " |-- Volume: integer (nullable = true)\n",
            "\n",
            "+-------------------+------------------+------------------+------------------+------------------+---------+\n",
            "|               Date|              Open|              High|               Low|             Close|   Volume|\n",
            "+-------------------+------------------+------------------+------------------+------------------+---------+\n",
            "|2010-01-04 17:00:00|        213.429998|        214.499996|212.38000099999996|        214.009998|123432400|\n",
            "|2010-01-05 17:00:00|        214.599998|        215.589994|        213.249994|        214.379993|150476200|\n",
            "|2010-01-06 17:00:00|        214.379993|            215.23|        210.750004|        210.969995|138040000|\n",
            "|2010-01-07 17:00:00|            211.75|        212.000006|        209.050005|            210.58|119282800|\n",
            "|2010-01-08 17:00:00|        210.299994|        212.000006|209.06000500000002|211.98000499999998|111902700|\n",
            "|2010-01-11 17:00:00|212.79999700000002|        213.000002|        208.450005|210.11000299999998|115557400|\n",
            "|2010-01-12 17:00:00|209.18999499999998|209.76999500000002|        206.419998|        207.720001|148614900|\n",
            "|2010-01-13 17:00:00|        207.870005|210.92999500000002|        204.099998|        210.650002|151473000|\n",
            "|2010-01-14 17:00:00|210.11000299999998|210.45999700000002|        209.020004|            209.43|108223500|\n",
            "|2010-01-15 17:00:00|210.92999500000002|211.59999700000003|        205.869999|            205.93|148516900|\n",
            "|2010-01-19 17:00:00|        208.330002|215.18999900000003|        207.240004|        215.039995|182501900|\n",
            "|2010-01-20 17:00:00|        214.910006|        215.549994|        209.500002|            211.73|153038200|\n",
            "|2010-01-21 17:00:00|        212.079994|213.30999599999998|        207.210003|        208.069996|152038600|\n",
            "|2010-01-22 17:00:00|206.78000600000001|        207.499996|            197.16|            197.75|220441900|\n",
            "|2010-01-25 17:00:00|202.51000200000001|        204.699999|        200.190002|        203.070002|266424900|\n",
            "|2010-01-26 17:00:00|205.95000100000001|        213.710005|        202.580004|        205.940001|466777500|\n",
            "|2010-01-27 17:00:00|        206.849995|            210.58|        199.530001|        207.880005|430642100|\n",
            "|2010-01-28 17:00:00|        204.930004|        205.500004|        198.699995|        199.289995|293375600|\n",
            "|2010-01-29 17:00:00|        201.079996|        202.199995|        190.250002|        192.060003|311488100|\n",
            "|2010-02-01 17:00:00|192.36999699999998|             196.0|191.29999899999999|        194.729998|187469100|\n",
            "+-------------------+------------------+------------------+------------------+------------------+---------+\n",
            "only showing top 20 rows\n",
            "\n"
          ]
        }
      ],
      "source": [
        "df2 = spark.read. \\\n",
        "    parquet(\"./data/schema2.parquet\")\n",
        "    \n",
        "df2.printSchema()\n",
        "df2.show()"
      ]
    },
    {
      "cell_type": "code",
      "execution_count": 74,
      "metadata": {
        "colab": {
          "base_uri": "https://localhost:8080/"
        },
        "id": "VJ_kvis5cz-S",
        "outputId": "9f642617-817a-41e3-e1d0-f543791e6847"
      },
      "outputs": [
        {
          "name": "stdout",
          "output_type": "stream",
          "text": [
            "root\n",
            " |-- Date: timestamp (nullable = true)\n",
            " |-- Open: double (nullable = true)\n",
            " |-- High: double (nullable = true)\n",
            " |-- Low: double (nullable = true)\n",
            " |-- Close: double (nullable = true)\n",
            " |-- Volume: integer (nullable = true)\n",
            " |-- Adj Close: double (nullable = true)\n",
            "\n",
            "+-------------------+------------------+------------------+------------------+------------------+---------+------------------+\n",
            "|               Date|              Open|              High|               Low|             Close|   Volume|         Adj Close|\n",
            "+-------------------+------------------+------------------+------------------+------------------+---------+------------------+\n",
            "|2010-01-04 17:00:00|        213.429998|        214.499996|212.38000099999996|        214.009998|123432400|         27.727039|\n",
            "|2010-01-05 17:00:00|        214.599998|        215.589994|        213.249994|        214.379993|150476200|27.774976000000002|\n",
            "|2010-01-06 17:00:00|        214.379993|            215.23|        210.750004|        210.969995|138040000|27.333178000000004|\n",
            "|2010-01-07 17:00:00|            211.75|        212.000006|        209.050005|            210.58|119282800|          27.28265|\n",
            "|2010-01-08 17:00:00|        210.299994|        212.000006|209.06000500000002|211.98000499999998|111902700|         27.464034|\n",
            "|2010-01-11 17:00:00|212.79999700000002|        213.000002|        208.450005|210.11000299999998|115557400|         27.221758|\n",
            "|2010-01-12 17:00:00|209.18999499999998|209.76999500000002|        206.419998|        207.720001|148614900|          26.91211|\n",
            "|2010-01-13 17:00:00|        207.870005|210.92999500000002|        204.099998|        210.650002|151473000|          27.29172|\n",
            "|2010-01-14 17:00:00|210.11000299999998|210.45999700000002|        209.020004|            209.43|108223500|         27.133657|\n",
            "|2010-01-15 17:00:00|210.92999500000002|211.59999700000003|        205.869999|            205.93|148516900|26.680197999999997|\n",
            "|2010-01-19 17:00:00|        208.330002|215.18999900000003|        207.240004|        215.039995|182501900|27.860484999999997|\n",
            "|2010-01-20 17:00:00|        214.910006|        215.549994|        209.500002|            211.73|153038200|         27.431644|\n",
            "|2010-01-21 17:00:00|        212.079994|213.30999599999998|        207.210003|        208.069996|152038600|         26.957455|\n",
            "|2010-01-22 17:00:00|206.78000600000001|        207.499996|            197.16|            197.75|220441900|         25.620401|\n",
            "|2010-01-25 17:00:00|202.51000200000001|        204.699999|        200.190002|        203.070002|266424900|26.309658000000002|\n",
            "|2010-01-26 17:00:00|205.95000100000001|        213.710005|        202.580004|        205.940001|466777500|         26.681494|\n",
            "|2010-01-27 17:00:00|        206.849995|            210.58|        199.530001|        207.880005|430642100|26.932840000000002|\n",
            "|2010-01-28 17:00:00|        204.930004|        205.500004|        198.699995|        199.289995|293375600|25.819922000000002|\n",
            "|2010-01-29 17:00:00|        201.079996|        202.199995|        190.250002|        192.060003|311488100|         24.883208|\n",
            "|2010-02-01 17:00:00|192.36999699999998|             196.0|191.29999899999999|        194.729998|187469100|         25.229131|\n",
            "+-------------------+------------------+------------------+------------------+------------------+---------+------------------+\n",
            "only showing top 20 rows\n",
            "\n"
          ]
        }
      ],
      "source": [
        "df3 = spark.read. \\\n",
        "    parquet(\"./data/schema3.parquet\")\n",
        "    \n",
        "df3.printSchema()\n",
        "df3.show()"
      ]
    },
    {
      "cell_type": "code",
      "execution_count": 76,
      "metadata": {
        "colab": {
          "base_uri": "https://localhost:8080/"
        },
        "id": "3ZhdS0i7LZEc",
        "outputId": "be22b78c-fe48-4b57-b8b9-035ae77c23ea"
      },
      "outputs": [
        {
          "name": "stdout",
          "output_type": "stream",
          "text": [
            "root\n",
            " |-- Date: timestamp (nullable = true)\n",
            " |-- Open: double (nullable = true)\n",
            " |-- High: double (nullable = true)\n",
            " |-- Low: double (nullable = true)\n",
            " |-- Close: double (nullable = true)\n",
            " |-- Volume: integer (nullable = true)\n",
            " |-- Adj Close: double (nullable = true)\n",
            "\n"
          ]
        }
      ],
      "source": [
        "# schema 파일을 동시에 합쳐서 데이터를 합칠 수 있다.\n",
        "# mergeSchema를 트루로 지정\n",
        "df = spark.read. \\\n",
        "    option(\"mergeSchema\", True). \\\n",
        "    parquet(\"./data/*.parquet\")\n",
        "    \n",
        "df.printSchema()"
      ]
    },
    {
      "cell_type": "code",
      "execution_count": 77,
      "metadata": {
        "colab": {
          "base_uri": "https://localhost:8080/"
        },
        "id": "7g56ZGQKkRBm",
        "outputId": "470515fb-bef2-467e-b72a-f4a569559b2c"
      },
      "outputs": [
        {
          "name": "stdout",
          "output_type": "stream",
          "text": [
            "+-------------------+------------------+------------------+------------------+------------------+---------+------------------+\n",
            "|               Date|              Open|              High|               Low|             Close|   Volume|         Adj Close|\n",
            "+-------------------+------------------+------------------+------------------+------------------+---------+------------------+\n",
            "|2010-01-04 17:00:00|        213.429998|        214.499996|212.38000099999996|        214.009998|123432400|         27.727039|\n",
            "|2010-01-05 17:00:00|        214.599998|        215.589994|        213.249994|        214.379993|150476200|27.774976000000002|\n",
            "|2010-01-06 17:00:00|        214.379993|            215.23|        210.750004|        210.969995|138040000|27.333178000000004|\n",
            "|2010-01-07 17:00:00|            211.75|        212.000006|        209.050005|            210.58|119282800|          27.28265|\n",
            "|2010-01-08 17:00:00|        210.299994|        212.000006|209.06000500000002|211.98000499999998|111902700|         27.464034|\n",
            "|2010-01-11 17:00:00|212.79999700000002|        213.000002|        208.450005|210.11000299999998|115557400|         27.221758|\n",
            "|2010-01-12 17:00:00|209.18999499999998|209.76999500000002|        206.419998|        207.720001|148614900|          26.91211|\n",
            "|2010-01-13 17:00:00|        207.870005|210.92999500000002|        204.099998|        210.650002|151473000|          27.29172|\n",
            "|2010-01-14 17:00:00|210.11000299999998|210.45999700000002|        209.020004|            209.43|108223500|         27.133657|\n",
            "|2010-01-15 17:00:00|210.92999500000002|211.59999700000003|        205.869999|            205.93|148516900|26.680197999999997|\n",
            "+-------------------+------------------+------------------+------------------+------------------+---------+------------------+\n",
            "only showing top 10 rows\n",
            "\n"
          ]
        }
      ],
      "source": [
        "df.show(10)"
      ]
    }
  ],
  "metadata": {
    "colab": {
      "provenance": []
    },
    "kernelspec": {
      "display_name": "Python 3",
      "name": "python3"
    },
    "language_info": {
      "codemirror_mode": {
        "name": "ipython",
        "version": 3
      },
      "file_extension": ".py",
      "mimetype": "text/x-python",
      "name": "python",
      "nbconvert_exporter": "python",
      "pygments_lexer": "ipython3",
      "version": "3.8.16"
    }
  },
  "nbformat": 4,
  "nbformat_minor": 0
}
