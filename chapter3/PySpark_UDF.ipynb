{
  "cells": [
    {
      "cell_type": "markdown",
      "metadata": {
        "id": "XIA23YgbXKJd"
      },
      "source": [
        "이를 위해 pyspark과 Py4J 패키지를 설치한다. Py4J 패키지는 파이썬 프로그램이 자바가상머신상의 오브젝트들을 접근할 수 있게 해준다. Local Standalone Spark을 사용한다."
      ]
    },
    {
      "cell_type": "markdown",
      "metadata": {
        "id": "Ew_eTGrvXlDw"
      },
      "source": [
        "**Spark Session:** 생성"
      ]
    },
    {
      "cell_type": "code",
      "execution_count": 1,
      "metadata": {
        "id": "3vm6tgcPXdnR"
      },
      "outputs": [],
      "source": [
        "from pyspark.sql import SparkSession\n",
        "import findspark\n",
        "findspark.init()\n",
        "\n",
        "spark = SparkSession \\\n",
        "    .builder \\\n",
        "    .appName(\"Python Spark UDF\") \\\n",
        "    .getOrCreate()"
      ]
    },
    {
      "cell_type": "markdown",
      "metadata": {
        "id": "cdANBnd70u-E"
      },
      "source": [
        "### Dataframe/SQL에 UDF 사용해보기 #1"
      ]
    },
    {
      "cell_type": "code",
      "execution_count": 2,
      "metadata": {
        "colab": {
          "base_uri": "https://localhost:8080/"
        },
        "id": "SpnFBENHzyGw",
        "outputId": "fa6ba4e0-27a8-4513-b054-73dcaaf628d9"
      },
      "outputs": [
        {
          "name": "stdout",
          "output_type": "stream",
          "text": [
            "+-----+------------+\n",
            "|Seqno|Name        |\n",
            "+-----+------------+\n",
            "|1    |john jones  |\n",
            "|2    |tracey smith|\n",
            "|3    |amy sanders |\n",
            "+-----+------------+\n",
            "\n"
          ]
        }
      ],
      "source": [
        "columns = [\"Seqno\",\"Name\"]\n",
        "data = [(\"1\", \"john jones\"),\n",
        "    (\"2\", \"tracey smith\"),\n",
        "    (\"3\", \"amy sanders\")]\n",
        "\n",
        "df = spark.createDataFrame(data=data, schema=columns)\n",
        "df.show(truncate=False)"
      ]
    },
    {
      "cell_type": "code",
      "execution_count": 3,
      "metadata": {
        "colab": {
          "base_uri": "https://localhost:8080/"
        },
        "id": "PrUPK5CLzztg",
        "outputId": "abc98612-e7b8-432b-b222-4e7bed11489a"
      },
      "outputs": [
        {
          "name": "stdout",
          "output_type": "stream",
          "text": [
            "+-----+------------+------------+\n",
            "|Seqno|Name        |Curated Name|\n",
            "+-----+------------+------------+\n",
            "|1    |john jones  |JOHN JONES  |\n",
            "|2    |tracey smith|TRACEY SMITH|\n",
            "|3    |amy sanders |AMY SANDERS |\n",
            "+-----+------------+------------+\n",
            "\n"
          ]
        }
      ],
      "source": [
        "import pyspark.sql.functions as F\n",
        "from pyspark.sql.types import *\n",
        "\n",
        "upperUDF = F.udf(lambda z:z.upper())   \n",
        "\n",
        "df.withColumn(\"Curated Name\", upperUDF(\"Name\")) \\\n",
        "  .show(truncate=False)"
      ]
    },
    {
      "cell_type": "code",
      "execution_count": 4,
      "metadata": {
        "id": "WA9eV8lijU27"
      },
      "outputs": [],
      "source": [
        "def upper_udf(s):\n",
        "    return s.upper()"
      ]
    },
    {
      "cell_type": "code",
      "execution_count": 5,
      "metadata": {
        "colab": {
          "base_uri": "https://localhost:8080/"
        },
        "id": "LQ9BOeDFwp5W",
        "outputId": "65a8d645-a40b-4477-e536-6eeefb4068ad"
      },
      "outputs": [
        {
          "name": "stdout",
          "output_type": "stream",
          "text": [
            "+-----+------------+------------+\n",
            "|Seqno|Name        |Curated Name|\n",
            "+-----+------------+------------+\n",
            "|1    |john jones  |JOHN JONES  |\n",
            "|2    |tracey smith|TRACEY SMITH|\n",
            "|3    |amy sanders |AMY SANDERS |\n",
            "+-----+------------+------------+\n",
            "\n"
          ]
        }
      ],
      "source": [
        "# default가 stringType\n",
        "upperUDF = F.udf(upper_udf, StringType())   \n",
        "\n",
        "df.withColumn(\"Curated Name\", upperUDF(\"Name\")) \\\n",
        "   .show(truncate=False)"
      ]
    },
    {
      "cell_type": "code",
      "execution_count": 6,
      "metadata": {
        "colab": {
          "base_uri": "https://localhost:8080/"
        },
        "id": "woo49o7fnGx3",
        "outputId": "6dcfeadc-f822-4b1e-ac2f-9496a0ea20e2"
      },
      "outputs": [
        {
          "name": "stdout",
          "output_type": "stream",
          "text": [
            "+------------+------------+\n",
            "|        Name|Curated Name|\n",
            "+------------+------------+\n",
            "|  john jones|  JOHN JONES|\n",
            "|tracey smith|TRACEY SMITH|\n",
            "| amy sanders| AMY SANDERS|\n",
            "+------------+------------+\n",
            "\n"
          ]
        }
      ],
      "source": [
        "df.select(\"Name\", upperUDF(\"Name\").alias(\"Curated Name\")).show()"
      ]
    },
    {
      "cell_type": "code",
      "execution_count": 7,
      "metadata": {
        "id": "fDKCC_fqke0o"
      },
      "outputs": [],
      "source": [
        "from pyspark.sql.functions import pandas_udf\n",
        "import pandas as pd\n",
        "\n",
        "# Define the UDF\n",
        "@pandas_udf(StringType())\n",
        "def upper_udf_f(s: pd.Series) -> pd.Series:\n",
        "    return s.str.upper()"
      ]
    },
    {
      "cell_type": "code",
      "execution_count": 8,
      "metadata": {
        "colab": {
          "base_uri": "https://localhost:8080/"
        },
        "id": "0wwmQhwCh48W",
        "outputId": "7dec5333-a083-48f4-f809-c3ca8d898bb3"
      },
      "outputs": [
        {
          "name": "stdout",
          "output_type": "stream",
          "text": [
            "+---------------+\n",
            "|upper_udf(aBcD)|\n",
            "+---------------+\n",
            "|           ABCD|\n",
            "+---------------+\n",
            "\n"
          ]
        }
      ],
      "source": [
        "# 위에서 정의한 파이썬 upper 함수를 그대로 사용\n",
        "\n",
        "upperUDF = spark.udf.register(\"upper_udf\", upper_udf_f)\n",
        "spark.sql(\"SELECT upper_udf('aBcD')\").show()"
      ]
    },
    {
      "cell_type": "code",
      "execution_count": 9,
      "metadata": {
        "colab": {
          "base_uri": "https://localhost:8080/"
        },
        "id": "xT1rZyRQAiiv",
        "outputId": "5a55648f-4359-4b6e-fb40-408fa9839326"
      },
      "outputs": [
        {
          "name": "stdout",
          "output_type": "stream",
          "text": [
            "+------------+-----------------+\n",
            "|        name|upper_udf_f(name)|\n",
            "+------------+-----------------+\n",
            "|  john jones|       JOHN JONES|\n",
            "|tracey smith|     TRACEY SMITH|\n",
            "| amy sanders|      AMY SANDERS|\n",
            "+------------+-----------------+\n",
            "\n"
          ]
        }
      ],
      "source": [
        "df.select(\"name\", upperUDF(\"name\")).show()"
      ]
    },
    {
      "cell_type": "code",
      "execution_count": 10,
      "metadata": {
        "colab": {
          "base_uri": "https://localhost:8080/"
        },
        "id": "DbWWdo5yiNeC",
        "outputId": "dffeb832-79c5-49ad-8b46-ecad7c3039a9"
      },
      "outputs": [
        {
          "name": "stdout",
          "output_type": "stream",
          "text": [
            "+------------+------------+\n",
            "|        name|Curated Name|\n",
            "+------------+------------+\n",
            "|  john jones|  JOHN JONES|\n",
            "|tracey smith|TRACEY SMITH|\n",
            "| amy sanders| AMY SANDERS|\n",
            "+------------+------------+\n",
            "\n"
          ]
        }
      ],
      "source": [
        "df.createOrReplaceTempView(\"test\")\n",
        "spark.sql(\"\"\"\n",
        "    SELECT name, upper_udf(name) `Curated Name` FROM test\n",
        "\"\"\").show()"
      ]
    },
    {
      "cell_type": "markdown",
      "metadata": {
        "id": "8QpdtxF-b71e"
      },
      "source": [
        "### Dataframe/SQL에 UDF 사용해보기 #2"
      ]
    },
    {
      "cell_type": "code",
      "execution_count": 11,
      "metadata": {
        "colab": {
          "base_uri": "https://localhost:8080/"
        },
        "id": "13paKmIvb94G",
        "outputId": "92810fb0-a644-4672-bbfb-e7a005111e6d"
      },
      "outputs": [
        {
          "name": "stdout",
          "output_type": "stream",
          "text": [
            "+---+---+---+\n",
            "|  a|  b|  c|\n",
            "+---+---+---+\n",
            "|  1|  2|  3|\n",
            "|  5|  5| 10|\n",
            "+---+---+---+\n",
            "\n"
          ]
        }
      ],
      "source": [
        "data = [\n",
        "    {\"a\": 1, \"b\": 2},\n",
        "    {\"a\": 5, \"b\": 5}\n",
        "]\n",
        "\n",
        "df = spark.createDataFrame(data)\n",
        "df.withColumn(\"c\", F.udf(lambda x, y: x + y)(\"a\", \"b\")).show()"
      ]
    },
    {
      "cell_type": "code",
      "execution_count": 12,
      "metadata": {
        "colab": {
          "base_uri": "https://localhost:8080/"
        },
        "id": "9woeBW-KdM-r",
        "outputId": "8d82cd1e-e2f0-4bfc-d440-a9c459a5491f"
      },
      "outputs": [
        {
          "name": "stdout",
          "output_type": "stream",
          "text": [
            "+---+\n",
            "|sum|\n",
            "+---+\n",
            "|  3|\n",
            "+---+\n",
            "\n"
          ]
        }
      ],
      "source": [
        "def plus(x, y):\n",
        "    return x + y\n",
        "\n",
        "plusUDF = spark.udf.register(\"plus\", plus)\n",
        "spark.sql(\"SELECT plus(1, 2) sum\").show()"
      ]
    },
    {
      "cell_type": "code",
      "execution_count": 13,
      "metadata": {
        "colab": {
          "base_uri": "https://localhost:8080/"
        },
        "id": "DdmVRqUcjwmi",
        "outputId": "e3cb3482-9368-4e12-ab0c-41b83e435a53"
      },
      "outputs": [
        {
          "name": "stdout",
          "output_type": "stream",
          "text": [
            "+---+---+---+\n",
            "|  a|  b|  p|\n",
            "+---+---+---+\n",
            "|  1|  2|  3|\n",
            "|  5|  5| 10|\n",
            "+---+---+---+\n",
            "\n"
          ]
        }
      ],
      "source": [
        "df.withColumn(\"p\", plusUDF(\"a\", \"b\")).show()"
      ]
    },
    {
      "cell_type": "code",
      "execution_count": 14,
      "metadata": {
        "colab": {
          "base_uri": "https://localhost:8080/"
        },
        "id": "w_j1RJQihulF",
        "outputId": "06db0985-6330-4691-8cba-362807abd315"
      },
      "outputs": [
        {
          "name": "stdout",
          "output_type": "stream",
          "text": [
            "+---+---+---+\n",
            "|  a|  b|  p|\n",
            "+---+---+---+\n",
            "|  1|  2|  3|\n",
            "|  5|  5| 10|\n",
            "+---+---+---+\n",
            "\n"
          ]
        }
      ],
      "source": [
        "df.createOrReplaceTempView(\"test\")\n",
        "spark.sql(\"SELECT a, b, plus(a, b) p FROM test\").show()"
      ]
    },
    {
      "cell_type": "markdown",
      "metadata": {
        "id": "AD5LoMHATNWp"
      },
      "source": [
        "### Dataframe에 UDAF 사용해보기"
      ]
    },
    {
      "cell_type": "code",
      "execution_count": 15,
      "metadata": {
        "colab": {
          "base_uri": "https://localhost:8080/"
        },
        "id": "R3_fbjsGp65Q",
        "outputId": "25851feb-b727-4cea-91ba-97224ca0291c"
      },
      "outputs": [
        {
          "name": "stdout",
          "output_type": "stream",
          "text": [
            "+--------------+\n",
            "|average_udf(a)|\n",
            "+--------------+\n",
            "|           3.0|\n",
            "+--------------+\n",
            "\n"
          ]
        }
      ],
      "source": [
        "from pyspark.sql.functions import pandas_udf\n",
        "import pandas as pd\n",
        "\n",
        "# Define the UDF\n",
        "@pandas_udf(FloatType())\n",
        "def average_udf_f(v: pd.Series) -> float:\n",
        "    return v.mean()\n",
        "\n",
        "averageUDF = spark.udf.register('average_udf', average_udf_f)\n",
        "spark.sql('SELECT average_udf(a) FROM test').show()"
      ]
    },
    {
      "cell_type": "code",
      "execution_count": 16,
      "metadata": {
        "colab": {
          "base_uri": "https://localhost:8080/"
        },
        "id": "Lhcp9zJVTshw",
        "outputId": "bfb8b5fe-ac0d-4116-8750-4c7d71e38e32"
      },
      "outputs": [
        {
          "name": "stdout",
          "output_type": "stream",
          "text": [
            "+-----+\n",
            "|count|\n",
            "+-----+\n",
            "|  3.5|\n",
            "+-----+\n",
            "\n"
          ]
        }
      ],
      "source": [
        "df.agg(averageUDF(\"b\").alias(\"count\")).show()"
      ]
    },
    {
      "cell_type": "markdown",
      "metadata": {
        "id": "YV16sPAT04lt"
      },
      "source": [
        "### DataFrame에 explode 사용해보기"
      ]
    },
    {
      "cell_type": "code",
      "execution_count": 17,
      "metadata": {
        "colab": {
          "base_uri": "https://localhost:8080/"
        },
        "id": "LS9KwY0rwDlS",
        "outputId": "6b770647-7b5a-44ae-e023-4043f67d6963"
      },
      "outputs": [
        {
          "name": "stdout",
          "output_type": "stream",
          "text": [
            "+----------+-------------------+--------------------+\n",
            "|      name|     knownLanguages|          properties|\n",
            "+----------+-------------------+--------------------+\n",
            "|     James|      [Java, Scala]|{eye -> brown, ha...|\n",
            "|   Michael|[Spark, Java, null]|{eye -> null, hai...|\n",
            "|    Robert|         [CSharp, ]|{eye -> , hair ->...|\n",
            "|Washington|               null|                null|\n",
            "| Jefferson|             [1, 2]|                  {}|\n",
            "+----------+-------------------+--------------------+\n",
            "\n"
          ]
        }
      ],
      "source": [
        "arrayData = [\n",
        "        ('James',['Java','Scala'],{'hair':'black','eye':'brown'}),\n",
        "        ('Michael',['Spark','Java',None],{'hair':'brown','eye':None}),\n",
        "        ('Robert',['CSharp',''],{'hair':'red','eye':''}),\n",
        "        ('Washington',None,None),\n",
        "        ('Jefferson',['1','2'],{})]\n",
        "\n",
        "df = spark.createDataFrame(data=arrayData, schema = ['name','knownLanguages','properties'])\n",
        "df.show()"
      ]
    },
    {
      "cell_type": "code",
      "execution_count": 18,
      "metadata": {
        "colab": {
          "base_uri": "https://localhost:8080/"
        },
        "id": "k4XVv0SdzQmV",
        "outputId": "924865d0-39db-410a-b1bd-39f1946153fc"
      },
      "outputs": [
        {
          "name": "stdout",
          "output_type": "stream",
          "text": [
            "root\n",
            " |-- name: string (nullable = true)\n",
            " |-- col: string (nullable = true)\n",
            "\n",
            "+---------+------+\n",
            "|     name|   col|\n",
            "+---------+------+\n",
            "|    James|  Java|\n",
            "|    James| Scala|\n",
            "|  Michael| Spark|\n",
            "|  Michael|  Java|\n",
            "|  Michael|  null|\n",
            "|   Robert|CSharp|\n",
            "|   Robert|      |\n",
            "|Jefferson|     1|\n",
            "|Jefferson|     2|\n",
            "+---------+------+\n",
            "\n"
          ]
        }
      ],
      "source": [
        "# knownLanguages 필드를 언어별로 짤라서 새로운 레코드로 생성\n",
        "from pyspark.sql.functions import explode\n",
        "df2 = df.select(df.name,explode(df.knownLanguages))\n",
        "df2.printSchema()\n",
        "df2.show()"
      ]
    },
    {
      "cell_type": "markdown",
      "metadata": {
        "id": "izkEXdR-npYL"
      },
      "source": [
        "### 하나의 레코드에서 다수의 레코드를 만들어내는 예제 (Order to 1+ Items)"
      ]
    },
    {
      "cell_type": "code",
      "execution_count": 20,
      "metadata": {
        "colab": {
          "base_uri": "https://localhost:8080/"
        },
        "id": "19eOUOSAnsBx",
        "outputId": "17a5e829-c147-4b80-9c2c-10930f25cb58"
      },
      "outputs": [
        {
          "name": "stdout",
          "output_type": "stream",
          "text": [
            "--2023-01-24 06:03:34--  https://s3-geospatial.s3.us-west-2.amazonaws.com/orders.csv\n",
            "Resolving s3-geospatial.s3.us-west-2.amazonaws.com (s3-geospatial.s3.us-west-2.amazonaws.com)... 52.218.176.185, 52.92.180.18, 3.5.80.192, ...\n",
            "Connecting to s3-geospatial.s3.us-west-2.amazonaws.com (s3-geospatial.s3.us-west-2.amazonaws.com)|52.218.176.185|:443... connected.\n",
            "HTTP request sent, awaiting response... 200 OK\n",
            "Length: 89951 (88K) [text/csv]\n",
            "Saving to: ‘orders.csv’\n",
            "\n",
            "orders.csv          100%[===================>]  87.84K  --.-KB/s    in 0.1s    \n",
            "\n",
            "2023-01-24 06:03:35 (653 KB/s) - ‘orders.csv’ saved [89951/89951]\n",
            "\n"
          ]
        }
      ],
      "source": [
        "!wget https://s3-geospatial.s3.us-west-2.amazonaws.com/orders.csv"
      ]
    },
    {
      "cell_type": "code",
      "execution_count": 21,
      "metadata": {
        "colab": {
          "base_uri": "https://localhost:8080/"
        },
        "id": "WaeUILJkVV-o",
        "outputId": "8731e650-9177-4484-d0ae-0f243d05b37e"
      },
      "outputs": [
        {
          "name": "stdout",
          "output_type": "stream",
          "text": [
            "order_id\titems\n",
            "860196503764\t[{\"name\": \"DAILY SPF\", \"quantity\": 1, \"id\": 1883727790094}]\n",
            "860292645076\t[{\"name\": \"DAILY SPF \\u2014 Bundle Set\", \"quantity\": 1, \"id\": 1883875377166}]\n",
            "860320956628\t[{\"name\": \"DAILY SPF\", \"quantity\": 1, \"id\": 1883919974414}]\n",
            "860321513684\t[{\"name\": \"DAILY SPF\", \"quantity\": 1, \"id\": 1883920793614}]\n"
          ]
        }
      ],
      "source": [
        "!head -5 orders.csv"
      ]
    },
    {
      "cell_type": "markdown",
      "metadata": {
        "id": "uBXdq3jqPwur"
      },
      "source": [
        "### Spark으로 해보기"
      ]
    },
    {
      "cell_type": "code",
      "execution_count": 19,
      "metadata": {
        "id": "noGe8odRnuxd"
      },
      "outputs": [],
      "source": [
        "from pyspark.sql.functions import *\n",
        "from pyspark.sql.types import StructType, StructField, StringType, ArrayType, LongType\n",
        "\n",
        "order = spark.read.options(delimiter='\\t').option(\"header\",\"true\").csv(\"./data/orders.csv\")"
      ]
    },
    {
      "cell_type": "code",
      "execution_count": 20,
      "metadata": {
        "colab": {
          "base_uri": "https://localhost:8080/"
        },
        "id": "KHYN-yq6oAXS",
        "outputId": "0e00c767-df8d-45d7-da89-e4ee95ae5938"
      },
      "outputs": [
        {
          "name": "stdout",
          "output_type": "stream",
          "text": [
            "+------------+--------------------+\n",
            "|    order_id|               items|\n",
            "+------------+--------------------+\n",
            "|860196503764|[{\"name\": \"DAILY ...|\n",
            "|860292645076|[{\"name\": \"DAILY ...|\n",
            "|860320956628|[{\"name\": \"DAILY ...|\n",
            "|860321513684|[{\"name\": \"DAILY ...|\n",
            "|862930665684|[{\"name\": \"DAILY ...|\n",
            "|862975819988|[{\"name\": \"DAILY ...|\n",
            "|862985191636|[{\"name\": \"DAILY ...|\n",
            "|870939295956|[{\"name\": \"DAILY ...|\n",
            "|880188063956|[{\"name\": \"DAILY ...|\n",
            "|933014601940|[{\"name\": \"DAILY ...|\n",
            "|934065930452|[{\"name\": \"DAILY ...|\n",
            "|938210722004|[{\"name\": \"DAILY ...|\n",
            "|944748331220|[{\"name\": \"DAILY ...|\n",
            "|862843896020|[{\"name\": \"DAILY ...|\n",
            "|862959763668|[{\"name\": \"DAILY ...|\n",
            "|870966558932|[{\"name\": \"DAILY ...|\n",
            "|887936647380|[{\"name\": \"DAILY ...|\n",
            "|908426477780|[{\"name\": \"DAILY ...|\n",
            "|921300107476|[{\"name\": \"DAILY ...|\n",
            "|932229710036|[{\"name\": \"DAILY ...|\n",
            "+------------+--------------------+\n",
            "only showing top 20 rows\n",
            "\n"
          ]
        }
      ],
      "source": [
        "order.show()"
      ]
    },
    {
      "cell_type": "code",
      "execution_count": 21,
      "metadata": {
        "colab": {
          "base_uri": "https://localhost:8080/"
        },
        "id": "7uJgS3zQWy4k",
        "outputId": "baebcf6f-d6d9-4a7b-e142-b0c6fe9f9591"
      },
      "outputs": [
        {
          "name": "stdout",
          "output_type": "stream",
          "text": [
            "root\n",
            " |-- order_id: string (nullable = true)\n",
            " |-- items: string (nullable = true)\n",
            "\n"
          ]
        }
      ],
      "source": [
        "order.printSchema()"
      ]
    },
    {
      "cell_type": "code",
      "execution_count": 23,
      "metadata": {
        "id": "MzIUYg-xrdnL"
      },
      "outputs": [],
      "source": [
        "# 데이터프레임을 이용해서 해보기\n",
        "struct = ArrayType(\n",
        "    StructType([\n",
        "        StructField(\"name\", StringType()),\n",
        "        StructField(\"id\", StringType()),\n",
        "        StructField(\"quantity\", LongType())\n",
        "    ])\n",
        ")"
      ]
    },
    {
      "cell_type": "code",
      "execution_count": 24,
      "metadata": {
        "colab": {
          "base_uri": "https://localhost:8080/"
        },
        "id": "dhfm4QaEY1-K",
        "outputId": "e1e187a7-d93a-47f8-9c1e-0c8ff9625abe"
      },
      "outputs": [
        {
          "name": "stdout",
          "output_type": "stream",
          "text": [
            "+------------+-----------------------------------------------------------------------------+------------------------------------------+\n",
            "|order_id    |items                                                                        |item                                      |\n",
            "+------------+-----------------------------------------------------------------------------+------------------------------------------+\n",
            "|860196503764|[{\"name\": \"DAILY SPF\", \"quantity\": 1, \"id\": 1883727790094}]                  |{DAILY SPF, 1883727790094, 1}             |\n",
            "|860292645076|[{\"name\": \"DAILY SPF \\u2014 Bundle Set\", \"quantity\": 1, \"id\": 1883875377166}]|{DAILY SPF — Bundle Set, 1883875377166, 1}|\n",
            "|860320956628|[{\"name\": \"DAILY SPF\", \"quantity\": 1, \"id\": 1883919974414}]                  |{DAILY SPF, 1883919974414, 1}             |\n",
            "|860321513684|[{\"name\": \"DAILY SPF\", \"quantity\": 1, \"id\": 1883920793614}]                  |{DAILY SPF, 1883920793614, 1}             |\n",
            "|862930665684|[{\"name\": \"DAILY SPF\", \"quantity\": 1, \"id\": 1887913672718}]                  |{DAILY SPF, 1887913672718, 1}             |\n",
            "|862975819988|[{\"name\": \"DAILY SPF\", \"quantity\": 1, \"id\": 1887985827854}]                  |{DAILY SPF, 1887985827854, 1}             |\n",
            "|862985191636|[{\"name\": \"DAILY SPF \\u2014 Bundle Set\", \"quantity\": 1, \"id\": 1887999164430}]|{DAILY SPF — Bundle Set, 1887999164430, 1}|\n",
            "|870939295956|[{\"name\": \"DAILY SPF\", \"quantity\": 1, \"id\": 1900142264334}]                  |{DAILY SPF, 1900142264334, 1}             |\n",
            "|880188063956|[{\"name\": \"DAILY SPF\", \"quantity\": 1, \"id\": 1914170572814}]                  |{DAILY SPF, 1914170572814, 1}             |\n",
            "|933014601940|[{\"name\": \"DAILY SPF\", \"quantity\": 1, \"id\": 1995572117518}]                  |{DAILY SPF, 1995572117518, 1}             |\n",
            "|934065930452|[{\"name\": \"DAILY SPF\", \"quantity\": 1, \"id\": 1997094813710}]                  |{DAILY SPF, 1997094813710, 1}             |\n",
            "|938210722004|[{\"name\": \"DAILY SPF\", \"quantity\": 1, \"id\": 2003241992206}]                  |{DAILY SPF, 2003241992206, 1}             |\n",
            "|944748331220|[{\"name\": \"DAILY SPF\", \"quantity\": 1, \"id\": 2013027794958}]                  |{DAILY SPF, 2013027794958, 1}             |\n",
            "|862843896020|[{\"name\": \"DAILY SPF \\u2014 Bundle Set\", \"quantity\": 1, \"id\": 1887779946510}]|{DAILY SPF — Bundle Set, 1887779946510, 1}|\n",
            "|862959763668|[{\"name\": \"DAILY SPF\", \"quantity\": 1, \"id\": 1887960727566}]                  |{DAILY SPF, 1887960727566, 1}             |\n",
            "|870966558932|[{\"name\": \"DAILY SPF\", \"quantity\": 1, \"id\": 1900184338446}]                  |{DAILY SPF, 1900184338446, 1}             |\n",
            "|887936647380|[{\"name\": \"DAILY SPF\", \"quantity\": 1, \"id\": 1926287851534}]                  |{DAILY SPF, 1926287851534, 1}             |\n",
            "|908426477780|[{\"name\": \"DAILY SPF\", \"quantity\": 1, \"id\": 1960246870030}]                  |{DAILY SPF, 1960246870030, 1}             |\n",
            "|921300107476|[{\"name\": \"DAILY SPF\", \"quantity\": 1, \"id\": 1979032993806}]                  |{DAILY SPF, 1979032993806, 1}             |\n",
            "|932229710036|[{\"name\": \"DAILY SPF\", \"quantity\": 1, \"id\": 1994496901134}]                  |{DAILY SPF, 1994496901134, 1}             |\n",
            "+------------+-----------------------------------------------------------------------------+------------------------------------------+\n",
            "only showing top 20 rows\n",
            "\n"
          ]
        }
      ],
      "source": [
        "order.withColumn(\"item\", explode(from_json(\"items\", struct))).show(truncate=False)"
      ]
    },
    {
      "cell_type": "code",
      "execution_count": 25,
      "metadata": {
        "id": "ZhBVvmMKYyfQ"
      },
      "outputs": [],
      "source": [
        "order_items = order.withColumn(\"item\", explode(from_json(\"items\", struct))).drop(\"items\")"
      ]
    },
    {
      "cell_type": "code",
      "execution_count": 26,
      "metadata": {
        "colab": {
          "base_uri": "https://localhost:8080/"
        },
        "id": "iE4F7-EH2nqb",
        "outputId": "63442b1d-752b-42d8-da31-05def400a6c4"
      },
      "outputs": [
        {
          "name": "stdout",
          "output_type": "stream",
          "text": [
            "+------------+--------------------+\n",
            "|    order_id|                item|\n",
            "+------------+--------------------+\n",
            "|860196503764|{DAILY SPF, 18837...|\n",
            "|860292645076|{DAILY SPF — Bund...|\n",
            "|860320956628|{DAILY SPF, 18839...|\n",
            "|860321513684|{DAILY SPF, 18839...|\n",
            "|862930665684|{DAILY SPF, 18879...|\n",
            "+------------+--------------------+\n",
            "only showing top 5 rows\n",
            "\n"
          ]
        }
      ],
      "source": [
        "order_items.show(5)"
      ]
    },
    {
      "cell_type": "code",
      "execution_count": 27,
      "metadata": {
        "colab": {
          "base_uri": "https://localhost:8080/"
        },
        "id": "nzHUswiPjZv0",
        "outputId": "9dfdb591-2988-4e7b-ef8c-a7fca5f4a6a5"
      },
      "outputs": [
        {
          "name": "stdout",
          "output_type": "stream",
          "text": [
            "root\n",
            " |-- order_id: string (nullable = true)\n",
            " |-- item: struct (nullable = true)\n",
            " |    |-- name: string (nullable = true)\n",
            " |    |-- id: string (nullable = true)\n",
            " |    |-- quantity: long (nullable = true)\n",
            "\n"
          ]
        }
      ],
      "source": [
        "order_items.printSchema()"
      ]
    },
    {
      "cell_type": "code",
      "execution_count": 28,
      "metadata": {
        "id": "ZicsGY6d2yui"
      },
      "outputs": [],
      "source": [
        "order_items.createOrReplaceTempView(\"order_items\")"
      ]
    },
    {
      "cell_type": "code",
      "execution_count": 30,
      "metadata": {
        "colab": {
          "base_uri": "https://localhost:8080/"
        },
        "id": "EkKpLPoj25kX",
        "outputId": "b6125d60-79ff-4e50-8146-ae0fcafac8aa"
      },
      "outputs": [
        {
          "name": "stdout",
          "output_type": "stream",
          "text": [
            "+-------------+---------+\n",
            "|     order_id|avg_count|\n",
            "+-------------+---------+\n",
            "|1816674631892|      500|\n",
            "|1821860430036|      300|\n",
            "|2186043064532|      208|\n",
            "|2118824558804|      200|\n",
            "|2143034474708|      200|\n",
            "+-------------+---------+\n",
            "only showing top 5 rows\n",
            "\n"
          ]
        }
      ],
      "source": [
        "spark.sql(\"\"\"\n",
        "    SELECT order_id, CAST(average_udf(item.quantity) as decimal) avg_count\n",
        "    FROM order_items \n",
        "    GROUP BY 1 \n",
        "    ORDER BY 2 DESC\"\"\").show(5)"
      ]
    },
    {
      "cell_type": "code",
      "execution_count": 31,
      "metadata": {
        "colab": {
          "base_uri": "https://localhost:8080/"
        },
        "id": "v2ztg-puj10J",
        "outputId": "9dde421a-8dbf-4f55-aaf0-e7ce38fef091"
      },
      "outputs": [
        {
          "name": "stdout",
          "output_type": "stream",
          "text": [
            "+--------+\n",
            "|quantity|\n",
            "+--------+\n",
            "|     500|\n",
            "+--------+\n",
            "\n"
          ]
        }
      ],
      "source": [
        "spark.sql(\"\"\"SELECT item.quantity FROM order_items WHERE order_id = '1816674631892'\"\"\").show()"
      ]
    },
    {
      "cell_type": "code",
      "execution_count": 32,
      "metadata": {
        "colab": {
          "base_uri": "https://localhost:8080/"
        },
        "id": "iGSo9VEAaDaL",
        "outputId": "22c426c2-a28a-427e-fd72-aa3ba695a122"
      },
      "outputs": [
        {
          "data": {
            "text/plain": [
              "[Table(name='order_items', catalog=None, namespace=[], description=None, tableType='TEMPORARY', isTemporary=True),\n",
              " Table(name='test', catalog=None, namespace=[], description=None, tableType='TEMPORARY', isTemporary=True)]"
            ]
          },
          "execution_count": 32,
          "metadata": {},
          "output_type": "execute_result"
        }
      ],
      "source": [
        "spark.catalog.listTables()"
      ]
    },
    {
      "cell_type": "code",
      "execution_count": 33,
      "metadata": {
        "colab": {
          "base_uri": "https://localhost:8080/"
        },
        "id": "l-h5OW7Ymog8",
        "outputId": "6b6c53c1-d527-47ad-bac5-7c9fbff782c1"
      },
      "outputs": [
        {
          "name": "stdout",
          "output_type": "stream",
          "text": [
            "!\n",
            "!=\n",
            "%\n",
            "&\n",
            "*\n",
            "+\n",
            "-\n",
            "/\n",
            "<\n",
            "<=\n",
            "<=>\n",
            "<>\n",
            "=\n",
            "==\n",
            ">\n",
            ">=\n",
            "^\n",
            "abs\n",
            "acos\n",
            "acosh\n",
            "add_months\n",
            "aes_decrypt\n",
            "aes_encrypt\n",
            "aggregate\n",
            "and\n",
            "any\n",
            "any_value\n",
            "approx_count_distinct\n",
            "approx_percentile\n",
            "array\n",
            "array_agg\n",
            "array_append\n",
            "array_compact\n",
            "array_contains\n",
            "array_distinct\n",
            "array_except\n",
            "array_insert\n",
            "array_intersect\n",
            "array_join\n",
            "array_max\n",
            "array_min\n",
            "array_position\n",
            "array_remove\n",
            "array_repeat\n",
            "array_size\n",
            "array_sort\n",
            "array_union\n",
            "arrays_overlap\n",
            "arrays_zip\n",
            "ascii\n",
            "asin\n",
            "asinh\n",
            "assert_true\n",
            "atan\n",
            "atan2\n",
            "atanh\n",
            "avg\n",
            "base64\n",
            "between\n",
            "bigint\n",
            "bin\n",
            "binary\n",
            "bit_and\n",
            "bit_count\n",
            "bit_get\n",
            "bit_length\n",
            "bit_or\n",
            "bit_xor\n",
            "bool_and\n",
            "bool_or\n",
            "boolean\n",
            "bround\n",
            "btrim\n",
            "cardinality\n",
            "case\n",
            "cast\n",
            "cbrt\n",
            "ceil\n",
            "ceiling\n",
            "char\n",
            "char_length\n",
            "character_length\n",
            "chr\n",
            "coalesce\n",
            "collect_list\n",
            "collect_set\n",
            "concat\n",
            "concat_ws\n",
            "contains\n",
            "conv\n",
            "convert_timezone\n",
            "corr\n",
            "cos\n",
            "cosh\n",
            "cot\n",
            "count\n",
            "count_if\n",
            "count_min_sketch\n",
            "covar_pop\n",
            "covar_samp\n",
            "crc32\n",
            "csc\n",
            "cume_dist\n",
            "curdate\n",
            "current_catalog\n",
            "current_database\n",
            "current_date\n",
            "current_schema\n",
            "current_timestamp\n",
            "current_timezone\n",
            "current_user\n",
            "date\n",
            "date_add\n",
            "date_diff\n",
            "date_format\n",
            "date_from_unix_date\n",
            "date_part\n",
            "date_sub\n",
            "date_trunc\n",
            "dateadd\n",
            "datediff\n",
            "datepart\n",
            "day\n",
            "dayofmonth\n",
            "dayofweek\n",
            "dayofyear\n",
            "decimal\n",
            "decode\n",
            "degrees\n",
            "dense_rank\n",
            "div\n",
            "double\n",
            "e\n",
            "element_at\n",
            "elt\n",
            "encode\n",
            "endswith\n",
            "equal_null\n",
            "every\n",
            "exists\n",
            "exp\n",
            "explode\n",
            "explode_outer\n",
            "expm1\n",
            "extract\n",
            "factorial\n",
            "filter\n",
            "find_in_set\n",
            "first\n",
            "first_value\n",
            "flatten\n",
            "float\n",
            "floor\n",
            "forall\n",
            "format_number\n",
            "format_string\n",
            "from_csv\n",
            "from_json\n",
            "from_unixtime\n",
            "from_utc_timestamp\n",
            "get\n",
            "get_json_object\n",
            "getbit\n",
            "greatest\n",
            "grouping\n",
            "grouping_id\n",
            "hash\n",
            "hex\n",
            "histogram_numeric\n",
            "hour\n",
            "hypot\n",
            "if\n",
            "ifnull\n",
            "ilike\n",
            "in\n",
            "initcap\n",
            "inline\n",
            "inline_outer\n",
            "input_file_block_length\n",
            "input_file_block_start\n",
            "input_file_name\n",
            "instr\n",
            "int\n",
            "isnan\n",
            "isnotnull\n",
            "isnull\n",
            "java_method\n",
            "json_array_length\n",
            "json_object_keys\n",
            "json_tuple\n",
            "kurtosis\n",
            "lag\n",
            "last\n",
            "last_day\n",
            "last_value\n",
            "lcase\n",
            "lead\n",
            "least\n",
            "left\n",
            "len\n",
            "length\n",
            "levenshtein\n",
            "like\n",
            "ln\n",
            "localtimestamp\n",
            "locate\n",
            "log\n",
            "log10\n",
            "log1p\n",
            "log2\n",
            "lower\n",
            "lpad\n",
            "ltrim\n",
            "make_date\n",
            "make_dt_interval\n",
            "make_interval\n",
            "make_timestamp\n",
            "make_timestamp_ltz\n",
            "make_timestamp_ntz\n",
            "make_ym_interval\n",
            "map\n",
            "map_concat\n",
            "map_contains_key\n",
            "map_entries\n",
            "map_filter\n",
            "map_from_arrays\n",
            "map_from_entries\n",
            "map_keys\n",
            "map_values\n",
            "map_zip_with\n",
            "mask\n",
            "max\n",
            "max_by\n",
            "md5\n",
            "mean\n",
            "median\n",
            "min\n",
            "min_by\n",
            "minute\n",
            "mod\n",
            "mode\n",
            "monotonically_increasing_id\n",
            "month\n",
            "months_between\n",
            "named_struct\n",
            "nanvl\n",
            "negative\n",
            "next_day\n",
            "not\n",
            "now\n",
            "nth_value\n",
            "ntile\n",
            "nullif\n",
            "nvl\n",
            "nvl2\n",
            "octet_length\n",
            "or\n",
            "overlay\n",
            "parse_url\n",
            "percent_rank\n",
            "percentile\n",
            "percentile_approx\n",
            "pi\n",
            "pmod\n",
            "posexplode\n",
            "posexplode_outer\n",
            "position\n",
            "positive\n",
            "pow\n",
            "power\n",
            "printf\n",
            "quarter\n",
            "radians\n",
            "raise_error\n",
            "rand\n",
            "randn\n",
            "random\n",
            "range\n",
            "rank\n",
            "reduce\n",
            "reflect\n",
            "regexp\n",
            "regexp_count\n",
            "regexp_extract\n",
            "regexp_extract_all\n",
            "regexp_instr\n",
            "regexp_like\n",
            "regexp_replace\n",
            "regexp_substr\n",
            "regr_avgx\n",
            "regr_avgy\n",
            "regr_count\n",
            "regr_intercept\n",
            "regr_r2\n",
            "regr_slope\n",
            "regr_sxx\n",
            "regr_sxy\n",
            "regr_syy\n",
            "repeat\n",
            "replace\n",
            "reverse\n",
            "right\n",
            "rint\n",
            "rlike\n",
            "round\n",
            "row_number\n",
            "rpad\n",
            "rtrim\n",
            "schema_of_csv\n",
            "schema_of_json\n",
            "sec\n",
            "second\n",
            "sentences\n",
            "sequence\n",
            "session_window\n",
            "sha\n",
            "sha1\n",
            "sha2\n",
            "shiftleft\n",
            "shiftright\n",
            "shiftrightunsigned\n",
            "shuffle\n",
            "sign\n",
            "signum\n",
            "sin\n",
            "sinh\n",
            "size\n",
            "skewness\n",
            "slice\n",
            "smallint\n",
            "some\n",
            "sort_array\n",
            "soundex\n",
            "space\n",
            "spark_partition_id\n",
            "split\n",
            "split_part\n",
            "sqrt\n",
            "stack\n",
            "startswith\n",
            "std\n",
            "stddev\n",
            "stddev_pop\n",
            "stddev_samp\n",
            "str_to_map\n",
            "string\n",
            "struct\n",
            "substr\n",
            "substring\n",
            "substring_index\n",
            "sum\n",
            "tan\n",
            "tanh\n",
            "timestamp\n",
            "timestamp_micros\n",
            "timestamp_millis\n",
            "timestamp_seconds\n",
            "tinyint\n",
            "to_binary\n",
            "to_char\n",
            "to_csv\n",
            "to_date\n",
            "to_json\n",
            "to_number\n",
            "to_timestamp\n",
            "to_timestamp_ltz\n",
            "to_timestamp_ntz\n",
            "to_unix_timestamp\n",
            "to_utc_timestamp\n",
            "transform\n",
            "transform_keys\n",
            "transform_values\n",
            "translate\n",
            "trim\n",
            "trunc\n",
            "try_add\n",
            "try_avg\n",
            "try_divide\n",
            "try_element_at\n",
            "try_multiply\n",
            "try_subtract\n",
            "try_sum\n",
            "try_to_binary\n",
            "try_to_number\n",
            "try_to_timestamp\n",
            "typeof\n",
            "ucase\n",
            "unbase64\n",
            "unhex\n",
            "unix_date\n",
            "unix_micros\n",
            "unix_millis\n",
            "unix_seconds\n",
            "unix_timestamp\n",
            "upper\n",
            "url_decode\n",
            "url_encode\n",
            "user\n",
            "uuid\n",
            "var_pop\n",
            "var_samp\n",
            "variance\n",
            "version\n",
            "weekday\n",
            "weekofyear\n",
            "when\n",
            "width_bucket\n",
            "window\n",
            "window_time\n",
            "xpath\n",
            "xpath_boolean\n",
            "xpath_double\n",
            "xpath_float\n",
            "xpath_int\n",
            "xpath_long\n",
            "xpath_number\n",
            "xpath_short\n",
            "xpath_string\n",
            "xxhash64\n",
            "year\n",
            "zip_with\n",
            "|\n",
            "||\n",
            "~\n",
            "average_udf\n",
            "plus\n",
            "upper_udf\n"
          ]
        }
      ],
      "source": [
        "# udf function 뿐만 아니라 native function도 출력된다.\n",
        "for f in spark.catalog.listFunctions():\n",
        "    print(f[0])"
      ]
    }
  ],
  "metadata": {
    "colab": {
      "collapsed_sections": [
        "LoCk7SgRrFuP",
        "QkvG7CGo1BgF",
        "YV16sPAT04lt",
        "cdANBnd70u-E",
        "ziIgaC_cXx8S",
        "1bbYGM8MX3zO",
        "9nO5mhnwPozH",
        "uBXdq3jqPwur"
      ],
      "provenance": []
    },
    "kernelspec": {
      "display_name": "Python 3",
      "name": "python3"
    },
    "language_info": {
      "codemirror_mode": {
        "name": "ipython",
        "version": 3
      },
      "file_extension": ".py",
      "mimetype": "text/x-python",
      "name": "python",
      "nbconvert_exporter": "python",
      "pygments_lexer": "ipython3",
      "version": "3.8.16"
    }
  },
  "nbformat": 4,
  "nbformat_minor": 0
}
