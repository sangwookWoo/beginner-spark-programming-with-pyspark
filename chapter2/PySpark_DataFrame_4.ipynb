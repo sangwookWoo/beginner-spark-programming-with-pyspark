{
  "cells": [
    {
      "cell_type": "code",
      "execution_count": null,
      "metadata": {
        "colab": {
          "base_uri": "https://localhost:8080/"
        },
        "id": "Q_Wyv6ahKs8R",
        "outputId": "9017222e-3d05-42cf-812c-7e6339f78cb0"
      },
      "outputs": [
        {
          "name": "stdout",
          "output_type": "stream",
          "text": [
            "Looking in indexes: https://pypi.org/simple, https://us-python.pkg.dev/colab-wheels/public/simple/\n",
            "Requirement already satisfied: pyspark==3.0.1 in /usr/local/lib/python3.8/dist-packages (3.0.1)\n",
            "Requirement already satisfied: py4j==0.10.9 in /usr/local/lib/python3.8/dist-packages (0.10.9)\n"
          ]
        }
      ],
      "source": [
        "!pip install pyspark==3.3.1 py4j==0.10.9.5"
      ]
    },
    {
      "cell_type": "code",
      "execution_count": 2,
      "metadata": {
        "id": "zS9lNDeRKygm"
      },
      "outputs": [],
      "source": [
        "from pyspark.sql import SparkSession\n",
        "# .config(\"spark.jars\", \"/usr/local/lib/python3.7/dist-packages/pyspark/jars/RedshiftJDBC42-no-awssdk-1.2.20.1043.jar\") \\\n",
        "spark = SparkSession \\\n",
        "    .builder \\\n",
        "    .appName(\"Python Spark SQL basic example\") \\\n",
        "    .getOrCreate()"
      ]
    },
    {
      "cell_type": "code",
      "execution_count": null,
      "metadata": {
        "colab": {
          "base_uri": "https://localhost:8080/"
        },
        "id": "Sg6lKFCVK5uw",
        "outputId": "3181b822-345b-41d4-920e-4144d90735cf"
      },
      "outputs": [
        {
          "name": "stdout",
          "output_type": "stream",
          "text": [
            "--2023-01-16 01:15:59--  https://s3-geospatial.s3-us-west-2.amazonaws.com/survey_results_public.csv\n",
            "Resolving s3-geospatial.s3-us-west-2.amazonaws.com (s3-geospatial.s3-us-west-2.amazonaws.com)... 3.5.76.141, 52.92.196.138, 3.5.84.124, ...\n",
            "Connecting to s3-geospatial.s3-us-west-2.amazonaws.com (s3-geospatial.s3-us-west-2.amazonaws.com)|3.5.76.141|:443... connected.\n",
            "HTTP request sent, awaiting response... 200 OK\n",
            "Length: 81101949 (77M) [text/csv]\n",
            "Saving to: ‘survey_results_public.csv’\n",
            "\n",
            "survey_results_publ 100%[===================>]  77.34M  33.8MB/s    in 2.3s    \n",
            "\n",
            "2023-01-16 01:16:02 (33.8 MB/s) - ‘survey_results_public.csv’ saved [81101949/81101949]\n",
            "\n"
          ]
        }
      ],
      "source": [
        "!wget https://s3-geospatial.s3-us-west-2.amazonaws.com/survey_results_public.csv"
      ]
    },
    {
      "cell_type": "code",
      "execution_count": null,
      "metadata": {
        "colab": {
          "base_uri": "https://localhost:8080/"
        },
        "id": "bu8GWTxe00mU",
        "outputId": "ffbe6c8b-dd49-40ca-b850-3e13e08defa1"
      },
      "outputs": [
        {
          "name": "stdout",
          "output_type": "stream",
          "text": [
            "total 79216\n",
            "drwxr-xr-x 2 root root     4096 Jan 16 00:16 language50_want\n",
            "drwxr-xr-x 2 root root     4096 Jan 16 00:15 language50_have\n",
            "-rw-r--r-- 1 root root 81101949 Jan 15 03:34 survey_results_public.csv\n",
            "drwxr-xr-x 1 root root     4096 Jan  9 14:36 sample_data\n"
          ]
        }
      ],
      "source": [
        "!ls -tl"
      ]
    },
    {
      "cell_type": "code",
      "execution_count": null,
      "metadata": {
        "colab": {
          "base_uri": "https://localhost:8080/"
        },
        "id": "uVYjxP2yA3D7",
        "outputId": "422eadf5-5d4a-4c31-ec24-1c151b236e90"
      },
      "outputs": [
        {
          "name": "stdout",
          "output_type": "stream",
          "text": [
            "ResponseId,MainBranch,Employment,Country,US_State,UK_Country,EdLevel,Age1stCode,LearnCode,YearsCode,YearsCodePro,DevType,OrgSize,Currency,CompTotal,CompFreq,LanguageHaveWorkedWith,LanguageWantToWorkWith,DatabaseHaveWorkedWith,DatabaseWantToWorkWith,PlatformHaveWorkedWith,PlatformWantToWorkWith,WebframeHaveWorkedWith,WebframeWantToWorkWith,MiscTechHaveWorkedWith,MiscTechWantToWorkWith,ToolsTechHaveWorkedWith,ToolsTechWantToWorkWith,NEWCollabToolsHaveWorkedWith,NEWCollabToolsWantToWorkWith,OpSys,NEWStuck,NEWSOSites,SOVisitFreq,SOAccount,SOPartFreq,SOComm,NEWOtherComms,Age,Gender,Trans,Sexuality,Ethnicity,Accessibility,MentalHealth,SurveyLength,SurveyEase,ConvertedCompYearly\n",
            "1,I am a developer by profession,\"Independent contractor, freelancer, or self-employed\",Slovakia,NA,NA,\"Secondary school (e.g. American high school, German Realschule or Gymnasium, etc.)\",18 - 24 years,\"Coding Bootcamp;Other online resources (ex: videos, blogs, etc)\",NA,NA,\"Developer, mobile\",20 to 99 employees,EUR European Euro,4800,Monthly,C++;HTML/CSS;JavaScript;Objective-C;PHP;Swift,Swift,PostgreSQL;SQLite,SQLite,NA,NA,Laravel;Symfony,NA,NA,NA,NA,NA,PHPStorm;Xcode,Atom;Xcode,MacOS,Call a coworker or friend;Visit Stack Overflow;Go for a walk or other physical activity;Google it,Stack Overflow,Multiple times per day,Yes,A few times per month or weekly,\"Yes, definitely\",No,25-34 years old,Man,No,Straight / Heterosexual,White or of European descent,None of the above,None of the above,Appropriate in length,Easy,62268\n",
            "2,I am a student who is learning to code,\"Student, full-time\",Netherlands,NA,NA,\"Bachelor’s degree (B.A., B.S., B.Eng., etc.)\",11 - 17 years,\"Other online resources (ex: videos, blogs, etc);School\",7,NA,NA,NA,NA,NA,NA,JavaScript;Python,NA,PostgreSQL,NA,NA,NA,Angular;Flask;Vue.js,NA,Cordova,NA,Docker;Git;Yarn,Git,Android Studio;IntelliJ;Notepad++;PyCharm,NA,Windows,Visit Stack Overflow;Google it,Stack Overflow,Daily or almost daily,Yes,Daily or almost daily,\"Yes, definitely\",No,18-24 years old,Man,No,Straight / Heterosexual,White or of European descent,None of the above,None of the above,Appropriate in length,Easy,NA\n",
            "3,\"I am not primarily a developer, but I write code sometimes as part of my work\",\"Student, full-time\",Russian Federation,NA,NA,\"Bachelor’s degree (B.A., B.S., B.Eng., etc.)\",11 - 17 years,\"Other online resources (ex: videos, blogs, etc);Online Forum\",NA,NA,NA,NA,NA,NA,NA,Assembly;C;Python;R;Rust,Julia;Python;Rust,SQLite,SQLite,Heroku,NA,Flask,Flask,NumPy;Pandas;TensorFlow;Torch/PyTorch,Keras;NumPy;Pandas;TensorFlow;Torch/PyTorch,NA,NA,IPython/Jupyter;PyCharm;RStudio;Sublime Text;Visual Studio Code,IPython/Jupyter;RStudio;Sublime Text;Visual Studio Code,MacOS,Visit Stack Overflow;Google it;Watch help / tutorial videos;Do other work and come back later,Stack Overflow;Stack Exchange,Multiple times per day,Yes,Multiple times per day,\"Yes, definitely\",Yes,18-24 years old,Man,No,Prefer not to say,Prefer not to say,None of the above,None of the above,Appropriate in length,Easy,NA\n",
            "4,I am a developer by profession,Employed full-time,Austria,NA,NA,\"Master’s degree (M.A., M.S., M.Eng., MBA, etc.)\",11 - 17 years,NA,NA,NA,\"Developer, front-end\",100 to 499 employees,EUR European Euro,NA,Monthly,JavaScript;TypeScript,JavaScript;TypeScript,NA,NA,NA,NA,Angular;jQuery,Angular;jQuery,NA,NA,NA,NA,NA,NA,Windows,Call a coworker or friend;Visit Stack Overflow;Go for a walk or other physical activity;Google it,Stack Overflow,Daily or almost daily,Yes,Daily or almost daily,Neutral,No,35-44 years old,Man,No,Straight / Heterosexual,White or of European descent,I am deaf / hard of hearing,NA,Appropriate in length,Neither easy nor difficult,NA\n"
          ]
        }
      ],
      "source": [
        "!head -5 survey_results_public.csv"
      ]
    },
    {
      "cell_type": "code",
      "execution_count": 3,
      "metadata": {
        "id": "uUE5_pgHMBZi"
      },
      "outputs": [],
      "source": [
        "df = spark.read.csv(\"./data/survey_results_public.csv\", header=True).select('ResponseId', 'LanguageHaveWorkedWith', 'LanguageWantToWorkWith')"
      ]
    },
    {
      "cell_type": "code",
      "execution_count": 4,
      "metadata": {
        "colab": {
          "base_uri": "https://localhost:8080/"
        },
        "id": "AjRdJ_JZMTx7",
        "outputId": "0b737818-dbc0-40cc-e248-7f3c06bd7b9c"
      },
      "outputs": [
        {
          "name": "stdout",
          "output_type": "stream",
          "text": [
            "root\n",
            " |-- ResponseId: string (nullable = true)\n",
            " |-- LanguageHaveWorkedWith: string (nullable = true)\n",
            " |-- LanguageWantToWorkWith: string (nullable = true)\n",
            "\n"
          ]
        }
      ],
      "source": [
        "df.printSchema()"
      ]
    },
    {
      "cell_type": "code",
      "execution_count": 29,
      "metadata": {
        "id": "izFlYOHIMcTX"
      },
      "outputs": [],
      "source": [
        "import pyspark.sql.functions as F\n",
        "\n",
        "# LanguageHaveWorkedWith 값을 트림하고 ;를 가지고 나눠서 리스트의 형태로 language_have 필드로 설정\n",
        "df2 = df.withColumn(\n",
        "    \"language_have\",\n",
        "    F.split(F.trim(F.col(\"LanguageHaveWorkedWith\")), \";\")\n",
        ")"
      ]
    },
    {
      "cell_type": "code",
      "execution_count": 30,
      "metadata": {
        "colab": {
          "base_uri": "https://localhost:8080/"
        },
        "id": "PFMq54O2MjJp",
        "outputId": "3e841571-ca21-4043-fd13-1bd633117d81"
      },
      "outputs": [
        {
          "name": "stdout",
          "output_type": "stream",
          "text": [
            "+----------+----------------------+----------------------+--------------------+\n",
            "|ResponseId|LanguageHaveWorkedWith|LanguageWantToWorkWith|       language_have|\n",
            "+----------+----------------------+----------------------+--------------------+\n",
            "|         1|  C++;HTML/CSS;Java...|                 Swift|[C++, HTML/CSS, J...|\n",
            "|         2|     JavaScript;Python|                    NA|[JavaScript, Python]|\n",
            "|         3|  Assembly;C;Python...|     Julia;Python;Rust|[Assembly, C, Pyt...|\n",
            "|         4|  JavaScript;TypeSc...|  JavaScript;TypeSc...|[JavaScript, Type...|\n",
            "|         5|  Bash/Shell;HTML/C...|  Bash/Shell;HTML/C...|[Bash/Shell, HTML...|\n",
            "+----------+----------------------+----------------------+--------------------+\n",
            "only showing top 5 rows\n",
            "\n"
          ]
        }
      ],
      "source": [
        "df2.show(5)"
      ]
    },
    {
      "cell_type": "code",
      "execution_count": 9,
      "metadata": {
        "id": "o59dGRGfmwFi"
      },
      "outputs": [],
      "source": [
        "# LanguageWantToWorkWith 값을 트림하고 ;를 가지고 나눠서 리스트의 형태로 language_want 필드로 설정\n",
        "df3 = df2.withColumn(\n",
        "    \"language_want\",\n",
        "    F.split(F.trim(F.col(\"LanguageWantToWorkWith\")), \";\")\n",
        ")"
      ]
    },
    {
      "cell_type": "code",
      "execution_count": 10,
      "metadata": {
        "colab": {
          "base_uri": "https://localhost:8080/"
        },
        "id": "UiTdTSk6ncjL",
        "outputId": "23bcc434-8319-4f10-c699-74f746a49f55"
      },
      "outputs": [
        {
          "name": "stdout",
          "output_type": "stream",
          "text": [
            "root\n",
            " |-- ResponseId: string (nullable = true)\n",
            " |-- LanguageHaveWorkedWith: string (nullable = true)\n",
            " |-- LanguageWantToWorkWith: string (nullable = true)\n",
            " |-- language_have: array (nullable = true)\n",
            " |    |-- element: string (containsNull = false)\n",
            " |-- language_want: array (nullable = true)\n",
            " |    |-- element: string (containsNull = false)\n",
            "\n"
          ]
        }
      ],
      "source": [
        "df3.printSchema()"
      ]
    },
    {
      "cell_type": "code",
      "execution_count": 11,
      "metadata": {
        "colab": {
          "base_uri": "https://localhost:8080/"
        },
        "id": "0oH_9cEWm7ki",
        "outputId": "355ab0c6-b446-445d-d11c-04bd3f1221e8"
      },
      "outputs": [
        {
          "name": "stdout",
          "output_type": "stream",
          "text": [
            "+----------+----------------------+----------------------+--------------------+--------------------+\n",
            "|ResponseId|LanguageHaveWorkedWith|LanguageWantToWorkWith|       language_have|       language_want|\n",
            "+----------+----------------------+----------------------+--------------------+--------------------+\n",
            "|         1|  C++;HTML/CSS;Java...|                 Swift|[C++, HTML/CSS, J...|             [Swift]|\n",
            "|         2|     JavaScript;Python|                    NA|[JavaScript, Python]|                [NA]|\n",
            "|         3|  Assembly;C;Python...|     Julia;Python;Rust|[Assembly, C, Pyt...|[Julia, Python, R...|\n",
            "|         4|  JavaScript;TypeSc...|  JavaScript;TypeSc...|[JavaScript, Type...|[JavaScript, Type...|\n",
            "|         5|  Bash/Shell;HTML/C...|  Bash/Shell;HTML/C...|[Bash/Shell, HTML...|[Bash/Shell, HTML...|\n",
            "+----------+----------------------+----------------------+--------------------+--------------------+\n",
            "only showing top 5 rows\n",
            "\n"
          ]
        }
      ],
      "source": [
        "df3.show(5)"
      ]
    },
    {
      "cell_type": "markdown",
      "metadata": {
        "id": "2cCpSJeT6JX_"
      },
      "source": [
        "## 현재 많이 사용되는 언어들 찾기"
      ]
    },
    {
      "cell_type": "code",
      "execution_count": 12,
      "metadata": {
        "id": "_WLgCRnim9KP"
      },
      "outputs": [],
      "source": [
        "df_language_have = df3.select(\n",
        "    df3.ResponseId,\n",
        "    F.explode(df3.language_have).alias(\"language_have\")\n",
        ")"
      ]
    },
    {
      "cell_type": "code",
      "execution_count": 13,
      "metadata": {
        "colab": {
          "base_uri": "https://localhost:8080/"
        },
        "id": "zShzpF1JnYM5",
        "outputId": "4bda9fc8-4880-4f28-cc07-395edabe96c4"
      },
      "outputs": [
        {
          "name": "stdout",
          "output_type": "stream",
          "text": [
            "+----------+-------------+\n",
            "|ResponseId|language_have|\n",
            "+----------+-------------+\n",
            "|         1|          C++|\n",
            "|         1|     HTML/CSS|\n",
            "|         1|   JavaScript|\n",
            "|         1|  Objective-C|\n",
            "|         1|          PHP|\n",
            "|         1|        Swift|\n",
            "|         2|   JavaScript|\n",
            "|         2|       Python|\n",
            "|         3|     Assembly|\n",
            "|         3|            C|\n",
            "+----------+-------------+\n",
            "only showing top 10 rows\n",
            "\n"
          ]
        }
      ],
      "source": [
        "df_language_have.show(10)"
      ]
    },
    {
      "cell_type": "code",
      "execution_count": 14,
      "metadata": {
        "colab": {
          "base_uri": "https://localhost:8080/"
        },
        "id": "W0VqRNLLnonY",
        "outputId": "ca52cda0-b979-485d-ded2-1e65c7ed8dee"
      },
      "outputs": [
        {
          "name": "stdout",
          "output_type": "stream",
          "text": [
            "+-------------+-----+\n",
            "|language_have|count|\n",
            "+-------------+-----+\n",
            "|           C#|22984|\n",
            "|          VBA| 3847|\n",
            "|         Rust| 5799|\n",
            "|   Bash/Shell|22385|\n",
            "|   JavaScript|53587|\n",
            "|           NA| 1082|\n",
            "|         Perl| 2028|\n",
            "|       Erlang|  651|\n",
            "|       Matlab| 3846|\n",
            "|      Crystal|  466|\n",
            "+-------------+-----+\n",
            "only showing top 10 rows\n",
            "\n"
          ]
        }
      ],
      "source": [
        "df_language_have.groupby(\"language_have\").count().show(10)"
      ]
    },
    {
      "cell_type": "markdown",
      "metadata": {
        "id": "BmrboSUZ5jul"
      },
      "source": [
        "Sorting 두 가지 방법:\n",
        "\n",
        "*   sort & orderBy\n",
        "*   ascending & descending"
      ]
    },
    {
      "cell_type": "code",
      "execution_count": 15,
      "metadata": {
        "colab": {
          "base_uri": "https://localhost:8080/"
        },
        "id": "CAV1qJp_nuQW",
        "outputId": "d04293a9-4aa6-4b7d-9871-bcc4feac34b7"
      },
      "outputs": [
        {
          "data": {
            "text/plain": [
              "[Row(language_have='JavaScript', count=53587),\n",
              " Row(language_have='HTML/CSS', count=46259),\n",
              " Row(language_have='Python', count=39792),\n",
              " Row(language_have='SQL', count=38835),\n",
              " Row(language_have='Java', count=29162),\n",
              " Row(language_have='Node.js', count=27975),\n",
              " Row(language_have='TypeScript', count=24909),\n",
              " Row(language_have='C#', count=22984),\n",
              " Row(language_have='Bash/Shell', count=22385),\n",
              " Row(language_have='C++', count=20057),\n",
              " Row(language_have='PHP', count=18130),\n",
              " Row(language_have='C', count=17329),\n",
              " Row(language_have='PowerShell', count=8871),\n",
              " Row(language_have='Go', count=7879),\n",
              " Row(language_have='Kotlin', count=6866),\n",
              " Row(language_have='Rust', count=5799),\n",
              " Row(language_have='Ruby', count=5569),\n",
              " Row(language_have='Dart', count=4965),\n",
              " Row(language_have='Assembly', count=4632),\n",
              " Row(language_have='Swift', count=4204),\n",
              " Row(language_have='R', count=4185),\n",
              " Row(language_have='VBA', count=3847),\n",
              " Row(language_have='Matlab', count=3846),\n",
              " Row(language_have='Groovy', count=2479),\n",
              " Row(language_have='Objective-C', count=2310),\n",
              " Row(language_have='Scala', count=2148),\n",
              " Row(language_have='Perl', count=2028),\n",
              " Row(language_have='Haskell', count=1749),\n",
              " Row(language_have='Delphi', count=1731),\n",
              " Row(language_have='Clojure', count=1552),\n",
              " Row(language_have='Elixir', count=1438),\n",
              " Row(language_have='LISP', count=1096),\n",
              " Row(language_have='NA', count=1082),\n",
              " Row(language_have='Julia', count=1068),\n",
              " Row(language_have='F#', count=804),\n",
              " Row(language_have='Erlang', count=651),\n",
              " Row(language_have='APL', count=536),\n",
              " Row(language_have='Crystal', count=466),\n",
              " Row(language_have='COBOL', count=437)]"
            ]
          },
          "execution_count": 15,
          "metadata": {},
          "output_type": "execute_result"
        }
      ],
      "source": [
        "# sort의 인자로 desc라는 게 있는데 count Filed를 기준으로 내림차순\n",
        "df_language_have.groupby(\"language_have\").count().sort(F.desc(\"count\")).collect()"
      ]
    },
    {
      "cell_type": "code",
      "execution_count": 16,
      "metadata": {
        "colab": {
          "base_uri": "https://localhost:8080/"
        },
        "id": "W2Lba9ysobK7",
        "outputId": "ec87ba17-753c-4cbd-b78c-26abdcf24a76"
      },
      "outputs": [
        {
          "data": {
            "text/plain": [
              "[Row(language_have='JavaScript', count=53587),\n",
              " Row(language_have='HTML/CSS', count=46259),\n",
              " Row(language_have='Python', count=39792),\n",
              " Row(language_have='SQL', count=38835),\n",
              " Row(language_have='Java', count=29162),\n",
              " Row(language_have='Node.js', count=27975),\n",
              " Row(language_have='TypeScript', count=24909),\n",
              " Row(language_have='C#', count=22984),\n",
              " Row(language_have='Bash/Shell', count=22385),\n",
              " Row(language_have='C++', count=20057),\n",
              " Row(language_have='PHP', count=18130),\n",
              " Row(language_have='C', count=17329),\n",
              " Row(language_have='PowerShell', count=8871),\n",
              " Row(language_have='Go', count=7879),\n",
              " Row(language_have='Kotlin', count=6866),\n",
              " Row(language_have='Rust', count=5799),\n",
              " Row(language_have='Ruby', count=5569),\n",
              " Row(language_have='Dart', count=4965),\n",
              " Row(language_have='Assembly', count=4632),\n",
              " Row(language_have='Swift', count=4204),\n",
              " Row(language_have='R', count=4185),\n",
              " Row(language_have='VBA', count=3847),\n",
              " Row(language_have='Matlab', count=3846),\n",
              " Row(language_have='Groovy', count=2479),\n",
              " Row(language_have='Objective-C', count=2310),\n",
              " Row(language_have='Scala', count=2148),\n",
              " Row(language_have='Perl', count=2028),\n",
              " Row(language_have='Haskell', count=1749),\n",
              " Row(language_have='Delphi', count=1731),\n",
              " Row(language_have='Clojure', count=1552),\n",
              " Row(language_have='Elixir', count=1438),\n",
              " Row(language_have='LISP', count=1096),\n",
              " Row(language_have='NA', count=1082),\n",
              " Row(language_have='Julia', count=1068),\n",
              " Row(language_have='F#', count=804),\n",
              " Row(language_have='Erlang', count=651),\n",
              " Row(language_have='APL', count=536),\n",
              " Row(language_have='Crystal', count=466),\n",
              " Row(language_have='COBOL', count=437)]"
            ]
          },
          "execution_count": 16,
          "metadata": {},
          "output_type": "execute_result"
        }
      ],
      "source": [
        "# sort 말고 orderBy 활용하기, ascedning = False면 desc\n",
        "df_language_have.groupby(\"language_have\").count().orderBy('count', ascending=False).collect()"
      ]
    },
    {
      "cell_type": "code",
      "execution_count": 17,
      "metadata": {
        "id": "X693rgwfokcA"
      },
      "outputs": [],
      "source": [
        "# 위에서 50개만 데이터프레임으로\n",
        "df_language50_have = df_language_have.groupby(\"language_have\")\\\n",
        "    .count()\\\n",
        "    .orderBy('count', ascending=False)\\\n",
        "    .limit(50)"
      ]
    },
    {
      "cell_type": "code",
      "execution_count": 18,
      "metadata": {
        "id": "MnxaBVNAk1IJ"
      },
      "outputs": [],
      "source": [
        "# 결과를 HDFS에 쓰기\n",
        "# mode('overwrite')은 덮어쓰기\n",
        "df_language50_have.write.mode('overwrite').csv(\"./data/language50_have\")"
      ]
    },
    {
      "cell_type": "code",
      "execution_count": null,
      "metadata": {
        "colab": {
          "base_uri": "https://localhost:8080/"
        },
        "id": "hPTyDdtN0nGM",
        "outputId": "afce3509-2f75-4916-8b05-30665ee051a1"
      },
      "outputs": [
        {
          "name": "stdout",
          "output_type": "stream",
          "text": [
            "total 79216\n",
            "drwxr-xr-x 2 root root     4096 Jan 16 01:29 language50_have\n",
            "drwxr-xr-x 2 root root     4096 Jan 16 00:16 language50_want\n",
            "-rw-r--r-- 1 root root 81101949 Jan 15 03:34 survey_results_public.csv\n",
            "drwxr-xr-x 1 root root     4096 Jan  9 14:36 sample_data\n"
          ]
        }
      ],
      "source": [
        "!ls -tl"
      ]
    },
    {
      "cell_type": "code",
      "execution_count": null,
      "metadata": {
        "colab": {
          "base_uri": "https://localhost:8080/"
        },
        "id": "9ZmJ1kfr0p0a",
        "outputId": "35627953-4b3a-4f9e-9fbe-74f8b0e2069b"
      },
      "outputs": [
        {
          "name": "stdout",
          "output_type": "stream",
          "text": [
            "total 4\n",
            "-rw-r--r-- 1 root root   0 Jan 16 01:29 _SUCCESS\n",
            "-rw-r--r-- 1 root root 447 Jan 16 01:29 part-00000-d133bb73-6f57-4c38-a963-0c9ddf10dabf-c000.csv\n"
          ]
        }
      ],
      "source": [
        "!ls -tl language50_have/"
      ]
    },
    {
      "cell_type": "code",
      "execution_count": null,
      "metadata": {
        "colab": {
          "base_uri": "https://localhost:8080/"
        },
        "id": "z2ohCb3v0rQK",
        "outputId": "ad6ffe51-1d78-4d3d-9404-30bba14656d0"
      },
      "outputs": [
        {
          "name": "stdout",
          "output_type": "stream",
          "text": [
            "JavaScript,53587\n",
            "HTML/CSS,46259\n",
            "Python,39792\n",
            "SQL,38835\n",
            "Java,29162\n",
            "Node.js,27975\n",
            "TypeScript,24909\n",
            "C#,22984\n",
            "Bash/Shell,22385\n",
            "C++,20057\n",
            "PHP,18130\n",
            "C,17329\n",
            "PowerShell,8871\n",
            "Go,7879\n",
            "Kotlin,6866\n",
            "Rust,5799\n",
            "Ruby,5569\n",
            "Dart,4965\n",
            "Assembly,4632\n",
            "Swift,4204\n",
            "R,4185\n",
            "VBA,3847\n",
            "Matlab,3846\n",
            "Groovy,2479\n",
            "Objective-C,2310\n",
            "Scala,2148\n",
            "Perl,2028\n",
            "Haskell,1749\n",
            "Delphi,1731\n",
            "Clojure,1552\n",
            "Elixir,1438\n",
            "LISP,1096\n",
            "NA,1082\n",
            "Julia,1068\n",
            "F#,804\n",
            "Erlang,651\n",
            "APL,536\n",
            "Crystal,466\n",
            "COBOL,437\n"
          ]
        }
      ],
      "source": [
        "!cat language50_have/part-00000-d133bb73-6f57-4c38-a963-0c9ddf10dabf-c000.csv\n"
      ]
    },
    {
      "cell_type": "markdown",
      "metadata": {
        "id": "8rOXOYnt6aeB"
      },
      "source": [
        "## 가장 배우고 싶은 언어들 찾기"
      ]
    },
    {
      "cell_type": "code",
      "execution_count": 19,
      "metadata": {
        "id": "Y5XsmZYy6f-q"
      },
      "outputs": [],
      "source": [
        "df_language_want = df3.select(\n",
        "    df3.ResponseId,\n",
        "    F.explode(df3.language_want).alias(\"language_want\")\n",
        ")"
      ]
    },
    {
      "cell_type": "code",
      "execution_count": 20,
      "metadata": {
        "colab": {
          "base_uri": "https://localhost:8080/"
        },
        "id": "yC39jzaJ6ydj",
        "outputId": "36110a65-e118-4c1c-dd46-eec307acdd7a"
      },
      "outputs": [
        {
          "name": "stdout",
          "output_type": "stream",
          "text": [
            "+----------+-------------+\n",
            "|ResponseId|language_want|\n",
            "+----------+-------------+\n",
            "|         1|        Swift|\n",
            "|         2|           NA|\n",
            "|         3|        Julia|\n",
            "|         3|       Python|\n",
            "|         3|         Rust|\n",
            "+----------+-------------+\n",
            "only showing top 5 rows\n",
            "\n"
          ]
        }
      ],
      "source": [
        "df_language_want.show(5)"
      ]
    },
    {
      "cell_type": "code",
      "execution_count": 21,
      "metadata": {
        "colab": {
          "base_uri": "https://localhost:8080/"
        },
        "id": "VyZnyCoR63w-",
        "outputId": "ced0cff6-70a0-4bc6-bf55-22c02927a06b"
      },
      "outputs": [
        {
          "name": "stdout",
          "output_type": "stream",
          "text": [
            "+-------------+-----+\n",
            "|language_want|count|\n",
            "+-------------+-----+\n",
            "|           C#|17999|\n",
            "|          VBA| 1069|\n",
            "|         Rust|15865|\n",
            "|   Bash/Shell|14043|\n",
            "|   JavaScript|37008|\n",
            "|           NA| 6618|\n",
            "|         Perl| 1175|\n",
            "|       Erlang| 1379|\n",
            "|       Matlab| 1562|\n",
            "|      Crystal|  790|\n",
            "+-------------+-----+\n",
            "only showing top 10 rows\n",
            "\n"
          ]
        }
      ],
      "source": [
        "df_language_want.groupby(\"language_want\").count().show(10)"
      ]
    },
    {
      "cell_type": "code",
      "execution_count": 22,
      "metadata": {
        "id": "cdNUI-4v7Cu5"
      },
      "outputs": [],
      "source": [
        "df_language50_want = df_language_want.groupby(\"language_want\").count().orderBy('count', ascending=False).limit(50)"
      ]
    },
    {
      "cell_type": "code",
      "execution_count": 23,
      "metadata": {
        "colab": {
          "base_uri": "https://localhost:8080/"
        },
        "id": "dEENWbzr71Aw",
        "outputId": "875281c0-432d-4d86-99f4-e458209b6e8a"
      },
      "outputs": [
        {
          "name": "stdout",
          "output_type": "stream",
          "text": [
            "+-------------+-----+\n",
            "|language_want|count|\n",
            "+-------------+-----+\n",
            "|   JavaScript|37008|\n",
            "|       Python|34929|\n",
            "|     HTML/CSS|29353|\n",
            "|   TypeScript|26905|\n",
            "|          SQL|26631|\n",
            "|      Node.js|24100|\n",
            "|           C#|17999|\n",
            "|         Java|17222|\n",
            "|         Rust|15865|\n",
            "|           Go|15788|\n",
            "+-------------+-----+\n",
            "only showing top 10 rows\n",
            "\n"
          ]
        }
      ],
      "source": [
        "df_language50_want.show(10)"
      ]
    },
    {
      "cell_type": "code",
      "execution_count": 24,
      "metadata": {
        "id": "YH6cRSOW7KNo"
      },
      "outputs": [],
      "source": [
        "df_language50_want.write.mode('overwrite').csv(\"./data/language50_want\")"
      ]
    },
    {
      "cell_type": "code",
      "execution_count": 25,
      "metadata": {
        "colab": {
          "base_uri": "https://localhost:8080/"
        },
        "id": "QfVewy4a7Oh7",
        "outputId": "53affa40-e47b-4b3a-c8d9-f1f387128b72"
      },
      "outputs": [
        {
          "name": "stderr",
          "output_type": "stream",
          "text": [
            "'ls'��(��) ���� �Ǵ� �ܺ� ����, ������ �� �ִ� ���α׷�, �Ǵ�\n",
            "��ġ ������ �ƴմϴ�.\n"
          ]
        }
      ],
      "source": [
        "!ls -tl language50_want/"
      ]
    }
  ],
  "metadata": {
    "colab": {
      "provenance": []
    },
    "kernelspec": {
      "display_name": "Python 3",
      "name": "python3"
    },
    "language_info": {
      "codemirror_mode": {
        "name": "ipython",
        "version": 3
      },
      "file_extension": ".py",
      "mimetype": "text/x-python",
      "name": "python",
      "nbconvert_exporter": "python",
      "pygments_lexer": "ipython3",
      "version": "3.8.16"
    }
  },
  "nbformat": 4,
  "nbformat_minor": 0
}
